{
 "cells": [
  {
   "cell_type": "markdown",
   "metadata": {},
   "source": [
    "## Matmul\n",
    "\n",
    "why do we care?"
   ]
  },
  {
   "cell_type": "code",
   "execution_count": null,
   "metadata": {},
   "outputs": [],
   "source": []
  },
  {
   "cell_type": "markdown",
   "metadata": {},
   "source": [
    "> While in today’s computer chips, multiplication takes about the same number of cycles as addition\n",
    "\n",
    "Wait. In that case, why do we care?\n",
    "Same number of cycles, isnt the same as having the same computational cost!?\n",
    "\n",
    "\n",
    "* http://www.theoryofcomputing.org/articles/gs005/gs005.pdf\n",
    "* https://en.wikipedia.org/wiki/Bilinear_map\n",
    "* https://arxiv.org/abs/1011.1350"
   ]
  },
  {
   "cell_type": "code",
   "execution_count": 1,
   "metadata": {},
   "outputs": [],
   "source": [
    "import numpy as np\n",
    "import numpy.random as rnd\n",
    "\n",
    "import matplotlib.pyplot as plt\n",
    "%matplotlib inline"
   ]
  },
  {
   "cell_type": "code",
   "execution_count": 2,
   "metadata": {},
   "outputs": [],
   "source": [
    "# want to convert this into fast numerical code using cuda or similar!! -- http://cython.org/\n",
    "# count how many times we mul\n",
    "# would be cooler to overload multiplication?"
   ]
  },
  {
   "cell_type": "code",
   "execution_count": 3,
   "metadata": {},
   "outputs": [],
   "source": [
    "def counted(fn):  # not quite idea, want it to reset after every top level call\n",
    "    def wrapper(*args, **kwargs):\n",
    "        wrapper.called += 1\n",
    "        return fn(*args, **kwargs)\n",
    "    wrapper.called = 0\n",
    "    wrapper.__name__ = fn.__name__\n",
    "    return wrapper\n",
    "\n",
    "def split(matrix):  # split matrix into quarters\n",
    "    row, col = matrix.shape\n",
    "    m11 = matrix[:row//2, :col//2]  # top left\n",
    "    m12 = matrix[:row//2, col//2:]  # top right\n",
    "    m21 = matrix[row//2:, :col//2]  # bottom left\n",
    "    m22 = matrix[row//2:, col//2:]  # bottom right\n",
    "    return m11, m12, m21, m22\n",
    "\n",
    "@counted\n",
    "def strassen(a, b):\n",
    "    # base case: 1x1 matrix\n",
    "    if len(a) == 1:  \n",
    "        return a * b\n",
    "    else:\n",
    "        a11, a12, a21, a22 = split(a)\n",
    "        b11, b12, b21, b22 = split(b)\n",
    "        \n",
    "        p1 = strassen(a11 + a22, b11 + b22)\n",
    "        p2 = strassen(a21 + a22, b11)\n",
    "        p3 = strassen(a11, b12 - b22)\n",
    "        p4 = strassen(a22, - b11 + b21)\n",
    "        p5 = strassen(a11 + a12, b22)\n",
    "        p6 = strassen(- a11 + a21, b11 + b12)\n",
    "        p7 = strassen(a12 - a22, b21 + b22)\n",
    "        \n",
    "        c11 = p1 + p4 - p5 + p7\n",
    "        c12 = p3 + p5\n",
    "        c21 = p2 + p4\n",
    "        c22 = p1 - p2 + p3 + p6\n",
    "        \n",
    "        return np.vstack((np.hstack((c11, c12)), np.hstack((c21, c22)))) "
   ]
  },
  {
   "cell_type": "code",
   "execution_count": 4,
   "metadata": {},
   "outputs": [],
   "source": [
    "def test(shape):\n",
    "    A = rnd.random(shape)\n",
    "    B = rnd.random(shape)\n",
    "    C = strassen(A, B)\n",
    "    C_ = np.dot(A, B)\n",
    "    assert np.sum(np.abs(C - C_)) < 1e-8\n",
    "    \n",
    "test((32, 32))"
   ]
  },
  {
   "cell_type": "code",
   "execution_count": 6,
   "metadata": {},
   "outputs": [
    {
     "name": "stdout",
     "output_type": "stream",
     "text": [
      "[0.00000e+00 0.00000e+00 5.70000e+01 4.00000e+02 2.80100e+03 1.96080e+04\n",
      " 1.37257e+05 9.60800e+05]\n"
     ]
    },
    {
     "data": {
      "image/png": "[encoded data removed]",
      "text/plain": [
       "<matplotlib.figure.Figure at 0x7f1e1143d208>"
      ]
     },
     "metadata": {},
     "output_type": "display_data"
    }
   ],
   "source": [
    "calls = np.zeros(8)\n",
    "strassen.called = 0\n",
    "for i in range(2, len(calls)):\n",
    "#     print(2**i)\n",
    "    test((2**i,2**i))\n",
    "    calls[i] = strassen.called\n",
    "    strassen.called = 0\n",
    "    \n",
    "plt.plot(range(8), calls)\n",
    "# plt.plot(range(8))\n",
    "print(calls)"
   ]
  },
  {
   "cell_type": "code",
   "execution_count": 7,
   "metadata": {},
   "outputs": [
    {
     "name": "stdout",
     "output_type": "stream",
     "text": [
      "10.9 ms ± 127 µs per loop (mean ± std. dev. of 7 runs, 100 loops each)\n",
      "1.22 µs ± 15.5 ns per loop (mean ± std. dev. of 7 runs, 1000000 loops each)\n"
     ]
    }
   ],
   "source": [
    "def time(shape):\n",
    "    A = rnd.random(shape)\n",
    "    B = rnd.random(shape)\n",
    "    %timeit C = strassen(A, B)\n",
    "    %timeit C_ = np.dot(A, B)\n",
    "time((16,16))"
   ]
  },
  {
   "cell_type": "code",
   "execution_count": 8,
   "metadata": {},
   "outputs": [],
   "source": [
    "# HA. that is slow...\n",
    "# Also profile vanilla matmul."
   ]
  },
  {
   "cell_type": "markdown",
   "metadata": {},
   "source": [
    "A cool perspective that isnt the natural way to consider tensors.\n",
    "The elements of my matrix, are matrices. This makes sense if we just think of the elements of a matrix as any ring/field."
   ]
  },
  {
   "cell_type": "markdown",
   "metadata": {},
   "source": [
    "__Wait, but why?!__ \n",
    "\n",
    "Why is strassen faster? What intution is there for where the algol comes from, seems rather unusual...\n",
    "\n",
    "Simple, it uses less multiplications. Yes, but why is that possible?\n",
    "\n",
    "\n",
    "### The matrix multiplication tensor\n",
    "\n",
    "The matrix multiplication tensor for $n x n$ matrices is\n",
    "\n",
    "$$\n",
    "MM^{abc}_{def} = \\delta^a_e \\delta^b_f \\delta^c_d\n",
    "$$"
   ]
  },
  {
   "cell_type": "code",
   "execution_count": 10,
   "metadata": {},
   "outputs": [
    {
     "data": {
      "text/plain": [
       "<matplotlib.image.AxesImage at 0x7f1e11188b70>"
      ]
     },
     "execution_count": 10,
     "metadata": {},
     "output_type": "execute_result"
    },
    {
     "data": {
      "image/png": "[encoded data removed]",
      "text/plain": [
       "<matplotlib.figure.Figure at 0x7f1e111048d0>"
      ]
     },
     "metadata": {},
     "output_type": "display_data"
    }
   ],
   "source": [
    "\n",
    "def MM_tensor(n): #BUT how does this related to x_shape and y_shape??\n",
    "    # MM(a,b,c,d,e,f) = 1(ae)1(bf)1(cd)\n",
    "    i, j, k = np.ogrid[:n, :n, :n]\n",
    "    M = np.zeros((n,n,n,n,n,n))\n",
    "    M[i, j, k, i, j, k] = 1\n",
    "    return M\n",
    "\n",
    "n = 3\n",
    "M = MM_tensor(n)\n",
    "plt.imshow(M.reshape((n**3,n**3)), cmap='gray')"
   ]
  },
  {
   "cell_type": "code",
   "execution_count": 11,
   "metadata": {},
   "outputs": [
    {
     "name": "stderr",
     "output_type": "stream",
     "text": [
      "/home/act65/.pyenv/versions/3.6.4/lib/python3.6/site-packages/ipykernel_launcher.py:1: VisibleDeprecationWarning: `rank` is deprecated; use the `ndim` attribute or function instead. To find the rank of a matrix see `numpy.linalg.matrix_rank`.\n",
      "  \"\"\"Entry point for launching an IPython kernel.\n"
     ]
    },
    {
     "data": {
      "text/plain": [
       "6"
      ]
     },
     "execution_count": 11,
     "metadata": {},
     "output_type": "execute_result"
    }
   ],
   "source": [
    "np.rank(M)"
   ]
  },
  {
   "cell_type": "code",
   "execution_count": 12,
   "metadata": {},
   "outputs": [
    {
     "data": {
      "text/plain": [
       "<matplotlib.image.AxesImage at 0x7f1e110cc080>"
      ]
     },
     "execution_count": 12,
     "metadata": {},
     "output_type": "execute_result"
    },
    {
     "data": {
      "image/png": "[encoded data removed]",
      "text/plain": [
       "<matplotlib.figure.Figure at 0x7f1e1128bc50>"
      ]
     },
     "metadata": {},
     "output_type": "display_data"
    },
    {
     "data": {
      "image/png": "[encoded data removed]",
      "text/plain": [
       "<matplotlib.figure.Figure at 0x7f1e11297cf8>"
      ]
     },
     "metadata": {},
     "output_type": "display_data"
    },
    {
     "data": {
      "image/png": "[encoded data removed]",
      "text/plain": [
       "<matplotlib.figure.Figure at 0x7f1e111f7ba8>"
      ]
     },
     "metadata": {},
     "output_type": "display_data"
    },
    {
     "data": {
      "image/png": "[encoded data removed]",
      "text/plain": [
       "<matplotlib.figure.Figure at 0x7f1e1125a8d0>"
      ]
     },
     "metadata": {},
     "output_type": "display_data"
    }
   ],
   "source": [
    "plt.figure()\n",
    "plt.imshow(M[:,:,0,0,0,0].reshape((n,n)), cmap='gray')\n",
    "plt.figure()\n",
    "plt.imshow(M[:,0,:,0,0,0].reshape((n,n)), cmap='gray')\n",
    "plt.figure()\n",
    "plt.imshow(M[:,0,0,:,0,0].reshape((n,n)), cmap='gray')\n",
    "plt.figure()\n",
    "plt.imshow(M[:,0,0,0,:,0].reshape((n,n)), cmap='gray')\n",
    "## WANT a way to visualise this thing!"
   ]
  },
  {
   "cell_type": "markdown",
   "metadata": {},
   "source": [
    ">  However, de Groote [dG78] has shown that all 7-term decompositions of MM 2 are equivalent up to a change of basis, i.e., an instance of the GL(n)3 action (2)\n",
    "\n",
    "ok. \n",
    "* wtf is the MM-tensor. \n",
    "* why does the MM-tensor rank have anything to do with the number of multiplications required?\n",
    "* what is so special about GL(n)3? What has it got to do with MM?\n",
    "* can we visualise the MM-tensor as a tensor network?"
   ]
  },
  {
   "cell_type": "markdown",
   "metadata": {},
   "source": [
    "## Strassens algol for tensor contraction\n",
    "\n",
    "Can we generalise strassen in a non-trivial way to tensors?\n",
    "\n",
    "Currently (cite) best algol just reshapes tensor (in an intellgient way?) into a matrix and applies vanilla strassens algol. https://github.com/flame/tblis-strassen\n",
    "\n",
    "WANT - if strassens does a 2d partition on matrices, can we formulate a nd partition and decompose that? So (2x2x2) x (2x2x2) is the base case for 3 dim tensors?!?"
   ]
  },
  {
   "cell_type": "code",
   "execution_count": null,
   "metadata": {},
   "outputs": [],
   "source": []
  }
 ],
 "metadata": {
  "kernelspec": {
   "display_name": "Python 3",
   "language": "python",
   "name": "python3"
  },
  "language_info": {
   "codemirror_mode": {
    "name": "ipython",
    "version": 3
   },
   "file_extension": ".py",
   "mimetype": "text/x-python",
   "name": "python",
   "nbconvert_exporter": "python",
   "pygments_lexer": "ipython3",
   "version": "3.6.4"
  }
 },
 "nbformat": 4,
 "nbformat_minor": 2
}
