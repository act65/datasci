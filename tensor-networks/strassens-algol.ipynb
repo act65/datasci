{
 "cells": [
  {
   "cell_type": "markdown",
   "metadata": {},
   "source": [
    "> While in today’s computer chips, multiplication takes about the same number of cycles as addition\n",
    "\n",
    "Wait. In that case, why do we care?\n",
    "Same number of cycles, isnt the same as having the same computational cost!?\n",
    "Also, does Strassens algol mmake it more parallelisable?\n",
    "\n",
    "\n",
    "* http://www.theoryofcomputing.org/articles/gs005/gs005.pdf\n",
    "* https://en.wikipedia.org/wiki/Bilinear_map\n",
    "* https://arxiv.org/abs/1011.1350"
   ]
  },
  {
   "cell_type": "code",
   "execution_count": 1,
   "metadata": {},
   "outputs": [],
   "source": [
    "import numpy as np\n",
    "import numpy.random as rnd\n",
    "\n",
    "import matplotlib.pyplot as plt\n",
    "%matplotlib inline\n",
    "\n",
    "import networkx as nx"
   ]
  },
  {
   "cell_type": "code",
   "execution_count": 2,
   "metadata": {},
   "outputs": [],
   "source": [
    "# want to convert this into fast numerical code using cuda or similar!! -- http://cython.org/\n",
    "# count how many times we mul\n",
    "# would be cooler to overload multiplication?"
   ]
  },
  {
   "cell_type": "code",
   "execution_count": 3,
   "metadata": {},
   "outputs": [],
   "source": [
    "def count(fn):  # not quite idea, want it to reset after every top level call\n",
    "    counter = 0\n",
    "    \n",
    "    def wrapper(*args, **kwargs):\n",
    "        wrapper.called += 1\n",
    "        return fn(*args, **kwargs)\n",
    "    \n",
    "    wrapper.called = counter\n",
    "    wrapper.__name__ = fn.__name__\n",
    "    return wrapper\n",
    "\n",
    "def split(matrix):  # split matrix into quarters\n",
    "    row, col = matrix.shape\n",
    "    m11 = matrix[:row//2, :col//2]  # top left\n",
    "    m12 = matrix[:row//2, col//2:]  # top right\n",
    "    m21 = matrix[row//2:, :col//2]  # bottom left\n",
    "    m22 = matrix[row//2:, col//2:]  # bottom right\n",
    "    return m11, m12, m21, m22\n",
    "\n",
    "def merge(c11, c12, c21, c22):\n",
    "    return np.vstack((np.hstack((c11, c12)), np.hstack((c21, c22)))) \n",
    "\n",
    "@count\n",
    "def strassen(a, b):\n",
    "    \"\"\"\n",
    "    For the matrix multiplication of any two matrices of \n",
    "    size (n x n), they can be viewed as a 2x2 \n",
    "    matrices of 4 elements each. \n",
    "    \n",
    "    [[A_11, A_12],\n",
    "     [A_21, A_22]]\n",
    "     \n",
    "    [[B_11, B_12],\n",
    "     [B_21, B_22]]\n",
    "    \n",
    "    Where these elements are in in some other set.\n",
    "    As long as those elements have addition and \n",
    "    multiplication defined then we can reduce the \n",
    "    \n",
    "    \"\"\"\n",
    "    if len(a) == 2:  \n",
    "        # base case: 2x2 matrix\n",
    "        # use regular multiplication\n",
    "        # as the elements are in the reals\n",
    "        mul = np.multiply \n",
    "    else:\n",
    "        # else use strassens algol as the elements\n",
    "        # are in the general linear group\n",
    "        mul = strassen\n",
    "        \n",
    "    a11, a12, a21, a22 = split(a)\n",
    "    b11, b12, b21, b22 = split(b)\n",
    "\n",
    "    p1 = mul(a11 + a22, b11 + b22)\n",
    "    p2 = mul(a21 + a22, b11)\n",
    "    p3 = mul(a11, b12 - b22)\n",
    "    p4 = mul(a22, - b11 + b21)\n",
    "    p5 = mul(a11 + a12, b22)\n",
    "    p6 = mul(- a11 + a21, b11 + b12)\n",
    "    p7 = mul(a12 - a22, b21 + b22)\n",
    "\n",
    "    c11 = p1 + p4 - p5 + p7\n",
    "    c12 = p3 + p5\n",
    "    c21 = p2 + p4\n",
    "    c22 = p1 - p2 + p3 + p6\n",
    "\n",
    "    return merge(c11, c12, c21, c22)"
   ]
  },
  {
   "cell_type": "code",
   "execution_count": null,
   "metadata": {},
   "outputs": [],
   "source": [
    "# TODO is it possible to write out the ps and cs in a matrix form?"
   ]
  },
  {
   "cell_type": "code",
   "execution_count": 4,
   "metadata": {},
   "outputs": [],
   "source": [
    "def test(shape):\n",
    "    A = rnd.random(shape)\n",
    "    B = rnd.random(shape)\n",
    "    C = strassen(A, B)\n",
    "    C_ = np.dot(A, B)\n",
    "    assert np.sum(np.abs(C - C_)) < 1e-8\n",
    "    \n",
    "test((32, 32))"
   ]
  },
  {
   "cell_type": "code",
   "execution_count": 5,
   "metadata": {},
   "outputs": [
    {
     "name": "stdout",
     "output_type": "stream",
     "text": [
      "[0.00000e+00 0.00000e+00 8.00000e+00 5.70000e+01 4.00000e+02 2.80100e+03\n",
      " 1.96080e+04 1.37257e+05]\n"
     ]
    },
    {
     "data": {
      "image/png": "[encoded data removed]",
      "text/plain": [
       "<matplotlib.figure.Figure at 0x7f5e10656860>"
      ]
     },
     "metadata": {},
     "output_type": "display_data"
    }
   ],
   "source": [
    "calls = np.zeros(8)\n",
    "for i in range(2, len(calls)):\n",
    "    strassen.called = 0\n",
    "    test((2**i,2**i))\n",
    "    calls[i] = strassen.called\n",
    "    \n",
    "plt.scatter(2**np.arange(8), calls)\n",
    "# plt.plot(range(8))\n",
    "print(calls)"
   ]
  },
  {
   "cell_type": "code",
   "execution_count": 6,
   "metadata": {},
   "outputs": [
    {
     "name": "stdout",
     "output_type": "stream",
     "text": [
      "8.95 ms ± 97.5 µs per loop (mean ± std. dev. of 7 runs, 100 loops each)\n",
      "1.1 µs ± 16.4 ns per loop (mean ± std. dev. of 7 runs, 1000000 loops each)\n"
     ]
    }
   ],
   "source": [
    "def time(shape):\n",
    "    A = rnd.random(shape)\n",
    "    B = rnd.random(shape)\n",
    "    %timeit C = strassen(A, B)\n",
    "    %timeit C_ = np.dot(A, B)\n",
    "time((16,16))"
   ]
  },
  {
   "cell_type": "code",
   "execution_count": 7,
   "metadata": {},
   "outputs": [],
   "source": [
    "# HA. that is slow...\n",
    "# Also profile vanilla matmul."
   ]
  },
  {
   "cell_type": "markdown",
   "metadata": {},
   "source": [
    "A cool perspective that isnt the natural way to consider tensors.\n",
    "The elements of my matrix, are matrices. This makes sense if we just think of the elements of a matrix as any ring/field.\n",
    "\n",
    "What about an extension to higher dimensional arrays?\n",
    "For a 3-tensor, we would have a cube that gets split up into 8 smaller cubes?"
   ]
  },
  {
   "cell_type": "markdown",
   "metadata": {},
   "source": [
    "__Wait, but why?!__ \n",
    "\n",
    "Why is strassen faster? What intution is there for where the algol comes from, seems rather unusual...\n",
    "\n",
    "Simple, it uses less multiplications. Yes, but why is that possible?\n",
    "\n"
   ]
  },
  {
   "cell_type": "markdown",
   "metadata": {},
   "source": [
    "[Fast Feasible and Unfeasible Matrix Multiplication Victor](?)"
   ]
  }
 ],
 "metadata": {
  "kernelspec": {
   "display_name": "Python 3",
   "language": "python",
   "name": "python3"
  },
  "language_info": {
   "codemirror_mode": {
    "name": "ipython",
    "version": 3
   },
   "file_extension": ".py",
   "mimetype": "text/x-python",
   "name": "python",
   "nbconvert_exporter": "python",
   "pygments_lexer": "ipython3",
   "version": "3.6.4"
  }
 },
 "nbformat": 4,
 "nbformat_minor": 2
}
