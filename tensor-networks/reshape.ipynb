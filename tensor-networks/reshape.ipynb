{
 "cells": [
  {
   "cell_type": "markdown",
   "metadata": {},
   "source": [
    "Reshape.\n",
    "Want;\n",
    "- some properties that I can measure!?!\n",
    "- some visualisations! (what happens when I reshape?)\n",
    "- better intuition... need a concrete example to play with\n",
    "-\n",
    "\n",
    "## Neighborhoods\n",
    "\n",
    "Picture I already have. Neighbors and where they go to.\n",
    "\n",
    "\n",
    "## Connectedness (the dual of neighborhoods?)\n",
    "\n",
    "What about the graph POV?\n",
    "\n",
    "## How is reshape like a convolution?\n",
    "\n",
    "For example, this is what we do when we want to do a convolution. Construct a tensor of patches (examples, X, Y, kernel, kernel) and then reshape it into a (examples x X x Y, kernel x kernel ) matrix.\n",
    "\n",
    "## SVD\n",
    "\n",
    "! And what about all the reshaping funny business going on in HSVD and HOSVD?\n",
    "\n",
    "\n",
    "## Parameter sharing?\n",
    "\n",
    "Aka, parameter sharing schemes. If we write the reshaped, constructed tensor, and show the receptive field of original parameters.\n",
    "- are the receptive fields local, which tensor-nets/reshapings give local receptive fields?\n",
    "- ?\n",
    "-\n",
    "\n",
    "This idea is orthogonal to reshaping, reshaping is just a nice way to visualise it?"
   ]
  },
  {
   "cell_type": "markdown",
   "metadata": {},
   "source": [
    "\n",
    "$$\\begin{aligned}\n",
    "&= \\begin{bmatrix}\n",
    "a_{11} & a_{12} & a_{13} & a_{14} & a_{15} & a_{16} \\\\\n",
    "a_{21} & a_{22} & a_{23} & a_{24} & a_{25} & a_{26} \\\\\n",
    "a_{31} & a_{32} & a_{33} & a_{34} & a_{35} & a_{36} \\\\\n",
    "a_{41} & a_{42} & a_{43} & a_{44} & a_{45} & a_{46} \\\\\n",
    "a_{51} & a_{52} & a_{53} & a_{54} & a_{55} & a_{56} \\\\\n",
    "a_{61} & a_{62} & a_{63} & a_{64} & a_{65} & a_{66} \\\\\n",
    "\\end{bmatrix} \\\\\n",
    "&\\text{(stack by columns. reshape by first indices fastest)}\\\\\n",
    "&= \\begin{bmatrix}\n",
    "\\begin{bmatrix}\n",
    "a_{11} &  a_{31} & a_{51}\\\\\n",
    "a_{21} & a_{41} & a_{61}\\\\\n",
    "\\end{bmatrix} & \n",
    "\\begin{bmatrix}\n",
    "a_{12} &  a_{32} & a_{52}\\\\\n",
    "a_{22} & a_{42} & a_{62}\\\\\n",
    "\\end{bmatrix}\\\\\n",
    "\\begin{bmatrix}\n",
    "a_{13} &  a_{33} & a_{53}\\\\\n",
    "a_{23} & a_{43} & a_{63}\\\\\n",
    "\\end{bmatrix} & \n",
    "\\begin{bmatrix}\n",
    "a_{14} &  a_{34} & a_{54}\\\\\n",
    "a_{24} & a_{44} & a_{64}\\\\\n",
    "\\end{bmatrix} \\\\\n",
    "\\begin{bmatrix}\n",
    "a_{15} &  a_{35} & a_{55}\\\\\n",
    "a_{25} & a_{45} & a_{65}\\\\\n",
    "\\end{bmatrix} & \n",
    "\\begin{bmatrix}\n",
    "a_{16} &  a_{36} & a_{56}\\\\\n",
    "a_{26} & a_{46} & a_{66}\\\\\n",
    "\\end{bmatrix} \\\\\n",
    "\\end{bmatrix}\\end{aligned}$$\n",
    "\n",
    "Distances are not preserved. Originally $a_{33}$ is one index away from\n",
    "$\\{a_{32},a_{34},a_{23},a_{43}\\}$. But after the reshaping, the set of\n",
    "elements that d=1 are $\\{ a_{13},a_{53},a_{43},a_{31},a_{35},a_{34} \\}$.\n",
    "If we map these back into the original matrix, we can see that the\n",
    "‘range’ of the indicies is speading. More are in each elements\n",
    "neighbourhood. What does this mean?\n"
   ]
  },
  {
   "cell_type": "markdown",
   "metadata": {},
   "source": [
    "Is reshaing a linear op!?\n",
    "Does it commute, associate, ..."
   ]
  }
 ],
 "metadata": {
  "kernelspec": {
   "display_name": "Python 3",
   "language": "python",
   "name": "python3"
  },
  "language_info": {
   "codemirror_mode": {
    "name": "ipython",
    "version": 3
   },
   "file_extension": ".py",
   "mimetype": "text/x-python",
   "name": "python",
   "nbconvert_exporter": "python",
   "pygments_lexer": "ipython3",
   "version": "3.6.4"
  }
 },
 "nbformat": 4,
 "nbformat_minor": 2
}
