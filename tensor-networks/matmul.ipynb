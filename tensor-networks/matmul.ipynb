{
 "cells": [
  {
   "cell_type": "markdown",
   "metadata": {},
   "source": [
    "> While in today’s computer chips, multiplication takes about the same number of cycles as addition\n",
    "\n",
    "Wait. In that case, why do we care?\n",
    "Same number of cycles, isnt the same as having the same computational cost!?\n",
    "Also, does Strassens algol mmake it more parallelisable?\n",
    "\n",
    "\n",
    "* http://www.theoryofcomputing.org/articles/gs005/gs005.pdf\n",
    "* https://en.wikipedia.org/wiki/Bilinear_map\n",
    "* https://arxiv.org/abs/1011.1350"
   ]
  },
  {
   "cell_type": "code",
   "execution_count": 1,
   "metadata": {},
   "outputs": [],
   "source": [
    "import numpy as np\n",
    "import numpy.random as rnd\n",
    "\n",
    "import matplotlib.pyplot as plt\n",
    "%matplotlib inline\n",
    "\n",
    "import networkx as nx"
   ]
  },
  {
   "cell_type": "markdown",
   "metadata": {},
   "source": [
    "# Strassens Algol"
   ]
  },
  {
   "cell_type": "code",
   "execution_count": 2,
   "metadata": {},
   "outputs": [],
   "source": [
    "# want to convert this into fast numerical code using cuda or similar!! -- http://cython.org/\n",
    "# count how many times we mul\n",
    "# would be cooler to overload multiplication?"
   ]
  },
  {
   "cell_type": "code",
   "execution_count": 29,
   "metadata": {},
   "outputs": [],
   "source": [
    "def count(fn):  # not quite idea, want it to reset after every top level call\n",
    "    counter = 0\n",
    "    \n",
    "    def wrapper(*args, **kwargs):\n",
    "        wrapper.called += 1\n",
    "        return fn(*args, **kwargs)\n",
    "    \n",
    "    wrapper.called = counter\n",
    "    wrapper.__name__ = fn.__name__\n",
    "    return wrapper\n",
    "\n",
    "def split(matrix):  # split matrix into quarters\n",
    "    row, col = matrix.shape\n",
    "    m11 = matrix[:row//2, :col//2]  # top left\n",
    "    m12 = matrix[:row//2, col//2:]  # top right\n",
    "    m21 = matrix[row//2:, :col//2]  # bottom left\n",
    "    m22 = matrix[row//2:, col//2:]  # bottom right\n",
    "    return m11, m12, m21, m22\n",
    "\n",
    "def merge(c11, c12, c21, c22):\n",
    "    return np.vstack((np.hstack((c11, c12)), np.hstack((c21, c22)))) \n",
    "\n",
    "@count\n",
    "def strassen(a, b):\n",
    "    \"\"\"\n",
    "    For the matrix multiplication of any two matrices of \n",
    "    size (n x n), they can be viewed as a 2x2 \n",
    "    matrices of 4 elements each. \n",
    "    \n",
    "    [[A_11, A_12],\n",
    "     [A_21, A_22]]\n",
    "     \n",
    "    [[B_11, B_12],\n",
    "     [B_21, B_22]]\n",
    "    \n",
    "    Where these elements are in in some other set.\n",
    "    As long as those elements have addition and \n",
    "    multiplication defined then we can reduce the \n",
    "    \n",
    "    \"\"\"\n",
    "    if len(a) == 2:  \n",
    "        # base case: 2x2 matrix\n",
    "        # use regular multiplication\n",
    "        # as the elements are in the reals\n",
    "        mul = np.multiply \n",
    "    else:\n",
    "        # else use strassens algol as the elements\n",
    "        # are in the general linear group\n",
    "        mul = strassen\n",
    "        \n",
    "    a11, a12, a21, a22 = split(a)\n",
    "    b11, b12, b21, b22 = split(b)\n",
    "\n",
    "    p1 = mul(a11 + a22, b11 + b22)\n",
    "    p2 = mul(a21 + a22, b11)\n",
    "    p3 = mul(a11, b12 - b22)\n",
    "    p4 = mul(a22, - b11 + b21)\n",
    "    p5 = mul(a11 + a12, b22)\n",
    "    p6 = mul(- a11 + a21, b11 + b12)\n",
    "    p7 = mul(a12 - a22, b21 + b22)\n",
    "\n",
    "    c11 = p1 + p4 - p5 + p7\n",
    "    c12 = p3 + p5\n",
    "    c21 = p2 + p4\n",
    "    c22 = p1 - p2 + p3 + p6\n",
    "\n",
    "    return merge(c11, c12, c21, c22)"
   ]
  },
  {
   "cell_type": "code",
   "execution_count": 30,
   "metadata": {},
   "outputs": [],
   "source": [
    "def test(shape):\n",
    "    A = rnd.random(shape)\n",
    "    B = rnd.random(shape)\n",
    "    C = strassen(A, B)\n",
    "    C_ = np.dot(A, B)\n",
    "    \n",
    "    error = np.sum(np.abs(C - C_))\n",
    "    if error > 1e-8:\n",
    "        print(error)\n",
    "        raise ValueError    \n",
    "test((32, 32))"
   ]
  },
  {
   "cell_type": "markdown",
   "metadata": {},
   "source": [
    "\n",
    "\n",
    "$$\n",
    "p_i = \\sum_j \\sum_k P[i, j, k] A[j] B[k] \\\\ \n",
    "$$"
   ]
  },
  {
   "cell_type": "code",
   "execution_count": 46,
   "metadata": {},
   "outputs": [
    {
     "name": "stdout",
     "output_type": "stream",
     "text": [
      "(4, 4, 7) (7, 4)\n"
     ]
    },
    {
     "data": {
      "text/plain": [
       "(4, 4, 4)"
      ]
     },
     "execution_count": 46,
     "metadata": {},
     "output_type": "execute_result"
    }
   ],
   "source": [
    "# TODO is it possible to write out the ps and cs in a matrix form?\n",
    "# as an operator on the a11, ... b22. or on p1-p7?\n",
    "\n",
    "P = np.array([\n",
    "    # p1 = a11b11 + a11b22 + a22b11 + a22b22\n",
    "    [[1, 0, 0, 1], [0, 0, 0, 0], [0, 0, 0, 0], [1, 0, 0, 1]],\n",
    "    # p2 = a21b11 + a22b11\n",
    "    [[0, 0, 0, 0], [0, 0, 0, 0], [1, 0, 0, 0], [1, 0, 0, 0]],\n",
    "    # p3 = a11b12 - a11b22\n",
    "    [[0, 1, 0, -1], [0, 0, 0, 0], [0, 0, 0, 0], [0, 0, 0, 0]],\n",
    "    # p4 = -a22b12 + a22b21\n",
    "    [[0, 0, 0, 0], [0, 0, 0, 0], [0, 0, 0, 0], [0, -1, 1, 0]],\n",
    "    # p5 = a11b22 + a12b22\n",
    "    [[0, 0, 0, 1], [0, 0, 0, 1], [0, 0, 0, 0], [0, 0, 0, 0]],\n",
    "    # p6 = -a11b11 - a11b12 + a21b11 + a21b12\n",
    "    [[-1, -1, 0, 0], [0, 0, 0, 0], [1, 1, 0, 0], [0, 0, 0, 0]],\n",
    "    # p7 = a21b21 + a21b22 - a22b21 - a22b22\n",
    "    [[0, 0, 0, 0], [0, 0, 0, 0], [0, 0, 1, 1], [0, 0, -1, -1]]\n",
    "])\n",
    "\n",
    "C = np.array([\n",
    "    # c1 = ...\n",
    "    [1, 0, 0, 1, -1, 0, 1],\n",
    "    [0, 0, 1, 0, 1, 0, 0],\n",
    "    [0, 1, 0, 1, 0, 0, 0],\n",
    "    [1, -1, 1, 0, 0, 1, 0],\n",
    "])\n",
    "\n",
    "P = P.T\n",
    "C = C.T\n",
    "print(P.shape, C.shape)\n",
    "\n",
    "MMT = np.tensordot(P, C, axes=[2,0])\n",
    "\n",
    "MMT.shape"
   ]
  },
  {
   "cell_type": "code",
   "execution_count": 50,
   "metadata": {},
   "outputs": [
    {
     "data": {
      "text/plain": [
       "(-0.5, 7.5, 7.5, -0.5)"
      ]
     },
     "execution_count": 50,
     "metadata": {},
     "output_type": "execute_result"
    },
    {
     "data": {
      "image/png": "[encoded data removed]",
      "text/plain": [
       "<Figure size 1152x576 with 7 Axes>"
      ]
     },
     "metadata": {},
     "output_type": "display_data"
    },
    {
     "data": {
      "image/png": "[encoded data removed]",
      "text/plain": [
       "<Figure size 432x288 with 1 Axes>"
      ]
     },
     "metadata": {},
     "output_type": "display_data"
    },
    {
     "data": {
      "image/png": "[encoded data removed]",
      "text/plain": [
       "<Figure size 432x288 with 1 Axes>"
      ]
     },
     "metadata": {},
     "output_type": "display_data"
    }
   ],
   "source": [
    "plt.figure(figsize=(16, 8))\n",
    "for i in range(7):\n",
    "    plt.subplot(2, 4, i+1)\n",
    "    plt.title('P[{}]'.format(i))\n",
    "    plt.imshow(P[:, :, i], cmap='gray', interpolation='nearest')\n",
    "    plt.axis('off')\n",
    "\n",
    "plt.figure()\n",
    "plt.title('C')\n",
    "plt.imshow(C.T, cmap='gray', interpolation='nearest')\n",
    "plt.axis('off')\n",
    "    \n",
    "plt.figure()\n",
    "plt.title('MMT')\n",
    "plt.imshow(MMT.reshape(8, 8, order='C'), interpolation='nearest', cmap='gray')\n",
    "plt.axis('off')\n",
    "\n"
   ]
  },
  {
   "cell_type": "code",
   "execution_count": 32,
   "metadata": {},
   "outputs": [
    {
     "name": "stdout",
     "output_type": "stream",
     "text": [
      "[[0.474268   0.049396  ]\n",
      " [0.30047189 0.60772355]]\n",
      "[0.474268   0.049396   0.30047189 0.60772355]\n",
      "[0.83541532 0.15015842 0.76874738 0.53867075]\n",
      "0.9546826584614915\n"
     ]
    },
    {
     "ename": "ValueError",
     "evalue": "",
     "output_type": "error",
     "traceback": [
      "\u001b[0;31m---------------------------------------------------------------------------\u001b[0m",
      "\u001b[0;31mValueError\u001b[0m                                Traceback (most recent call last)",
      "\u001b[0;32m<ipython-input-32-1135ea620752>\u001b[0m in \u001b[0;36m<module>\u001b[0;34m()\u001b[0m\n\u001b[1;32m     21\u001b[0m         \u001b[0;32mraise\u001b[0m \u001b[0mValueError\u001b[0m\u001b[0;34m\u001b[0m\u001b[0m\n\u001b[1;32m     22\u001b[0m \u001b[0;34m\u001b[0m\u001b[0m\n\u001b[0;32m---> 23\u001b[0;31m \u001b[0mtest\u001b[0m\u001b[0;34m(\u001b[0m\u001b[0;34m(\u001b[0m\u001b[0;36m2\u001b[0m\u001b[0;34m,\u001b[0m\u001b[0;36m2\u001b[0m\u001b[0;34m)\u001b[0m\u001b[0;34m)\u001b[0m\u001b[0;34m\u001b[0m\u001b[0m\n\u001b[0m",
      "\u001b[0;32m<ipython-input-32-1135ea620752>\u001b[0m in \u001b[0;36mtest\u001b[0;34m(shape)\u001b[0m\n\u001b[1;32m     19\u001b[0m     \u001b[0;32mif\u001b[0m \u001b[0merror\u001b[0m \u001b[0;34m>\u001b[0m \u001b[0;36m1e-8\u001b[0m\u001b[0;34m:\u001b[0m\u001b[0;34m\u001b[0m\u001b[0m\n\u001b[1;32m     20\u001b[0m         \u001b[0mprint\u001b[0m\u001b[0;34m(\u001b[0m\u001b[0merror\u001b[0m\u001b[0;34m)\u001b[0m\u001b[0;34m\u001b[0m\u001b[0m\n\u001b[0;32m---> 21\u001b[0;31m         \u001b[0;32mraise\u001b[0m \u001b[0mValueError\u001b[0m\u001b[0;34m\u001b[0m\u001b[0m\n\u001b[0m\u001b[1;32m     22\u001b[0m \u001b[0;34m\u001b[0m\u001b[0m\n\u001b[1;32m     23\u001b[0m \u001b[0mtest\u001b[0m\u001b[0;34m(\u001b[0m\u001b[0;34m(\u001b[0m\u001b[0;36m2\u001b[0m\u001b[0;34m,\u001b[0m\u001b[0;36m2\u001b[0m\u001b[0;34m)\u001b[0m\u001b[0;34m)\u001b[0m\u001b[0;34m\u001b[0m\u001b[0m\n",
      "\u001b[0;31mValueError\u001b[0m: "
     ]
    }
   ],
   "source": [
    "def mul_MMT(A, B):\n",
    "    A = A.reshape(-1)\n",
    "    B = B.reshape(-1)\n",
    "#     result = np.einsum('i,j,ijk->k', A, B, MMT)\n",
    "    result = np.einsum('i,j,ijk,kl->l', A, B, P, C)\n",
    "\n",
    "    return result.reshape((2, 2))\n",
    "\n",
    "def test(shape):\n",
    "    A = rnd.random(shape)\n",
    "    B = rnd.random(shape)\n",
    "    C = mul_MMT(A, B)\n",
    "    C_ = np.dot(A, B)\n",
    "    \n",
    "    error = np.sum(np.abs(C - C_))\n",
    "    if error > 1e-8:\n",
    "        print(error)\n",
    "        raise ValueError\n",
    "\n",
    "test((2,2))"
   ]
  },
  {
   "cell_type": "code",
   "execution_count": 16,
   "metadata": {},
   "outputs": [
    {
     "name": "stdout",
     "output_type": "stream",
     "text": [
      "[0.00000e+00 0.00000e+00 8.00000e+00 5.70000e+01 4.00000e+02 2.80100e+03\n",
      " 1.96080e+04 1.37257e+05]\n"
     ]
    },
    {
     "data": {
      "image/png": "[encoded data removed]",
      "text/plain": [
       "<Figure size 432x288 with 1 Axes>"
      ]
     },
     "metadata": {},
     "output_type": "display_data"
    }
   ],
   "source": [
    "calls = np.zeros(8)\n",
    "for i in range(2, len(calls)):\n",
    "    strassen.called = 0\n",
    "    test((2**i,2**i))\n",
    "    calls[i] = strassen.called\n",
    "    \n",
    "plt.scatter(2**np.arange(8), calls)\n",
    "# plt.plot(range(8))\n",
    "print(calls)"
   ]
  },
  {
   "cell_type": "code",
   "execution_count": 17,
   "metadata": {},
   "outputs": [
    {
     "name": "stdout",
     "output_type": "stream",
     "text": [
      "8.9 ms ± 22 µs per loop (mean ± std. dev. of 7 runs, 100 loops each)\n",
      "1.14 µs ± 8.48 ns per loop (mean ± std. dev. of 7 runs, 1000000 loops each)\n"
     ]
    }
   ],
   "source": [
    "def time(shape):\n",
    "    A = rnd.random(shape)\n",
    "    B = rnd.random(shape)\n",
    "    %timeit C = strassen(A, B)\n",
    "    %timeit C_ = np.dot(A, B)\n",
    "time((16,16))"
   ]
  },
  {
   "cell_type": "code",
   "execution_count": 18,
   "metadata": {},
   "outputs": [],
   "source": [
    "# HA. that is slow...\n",
    "# Also profile vanilla matmul."
   ]
  },
  {
   "cell_type": "markdown",
   "metadata": {},
   "source": [
    "A cool perspective that isnt the natural way to consider tensors.\n",
    "The elements of my matrix, are matrices. This makes sense if we just think of the elements of a matrix as any ring/field.\n",
    "\n",
    "What about an extension to higher dimensional arrays?\n",
    "For a 3-tensor, we would have a cube that gets split up into 8 smaller cubes?"
   ]
  },
  {
   "cell_type": "markdown",
   "metadata": {},
   "source": [
    "__Wait, but why?!__ \n",
    "\n",
    "Why is strassen faster? What intution is there for where the algol comes from, seems rather unusual...\n",
    "\n",
    "Simple, it uses less multiplications. Yes, but why is that possible?\n",
    "\n"
   ]
  },
  {
   "cell_type": "markdown",
   "metadata": {},
   "source": [
    "[Fast Feasible and Unfeasible Matrix Multiplication Victor](?)"
   ]
  },
  {
   "cell_type": "markdown",
   "metadata": {},
   "source": [
    "## Strassens algol for tensor contraction\n",
    "\n",
    "Can we generalise strassen in a non-trivial way to tensors?\n",
    "\n",
    "Currently (cite) best algol just reshapes tensor (in an intellgient way?) into a matrix and applies vanilla strassens algol. https://github.com/flame/tblis-strassen\n",
    "\n",
    "WANT - if strassens does a 2d partition on matrices, can we formulate a nd partition and decompose that? So (2x2x2) x (2x2x2) is the base case for 3 dim tensors?!?"
   ]
  },
  {
   "cell_type": "code",
   "execution_count": null,
   "metadata": {},
   "outputs": [],
   "source": []
  },
  {
   "cell_type": "markdown",
   "metadata": {},
   "source": [
    "\n",
    "# The matrix multiplication tensor\n",
    "\n",
    ">  However, de Groote [dG78] has shown that all 7-term decompositions of MM 2 are equivalent up to a change of basis, i.e., an instance of the GL(n)3 action (2)\n",
    "\n",
    "ok. \n",
    "* wtf is the MM-tensor. \n",
    "* why does the MM-tensor rank have anything to do with the number of multiplications required?\n",
    "* what is so special about GL(n)3? What has it got to do with MM?\n",
    "* can we visualise the MM-tensor as a tensor network?\n",
    "\n",
    "\n",
    "Classic result from Winograd: https://www.sciencedirect.com/science/article/pii/0024379571900097\n",
    "\n",
    "\n",
    "* [Matrix multiplication algorithms from group orbits](https://arxiv.org/pdf/1612.01527.pdf)\n",
    "* https://arxiv.org/pdf/1601.08229.pdf\n",
    "* [](https://link.springer.com/article/10.1007%2FBF02165411)"
   ]
  },
  {
   "cell_type": "markdown",
   "metadata": {},
   "source": [
    "### [Designing Strassen’s Algorithm](https://arxiv.org/pdf/1708.09398.pdf)\n",
    "\n",
    "The matrix multiplication tensor for $n x n$ matrices is\n",
    "$$\n",
    "MM^{abc}_{def} = \\delta^a_e \\delta^b_f \\delta^c_d\n",
    "$$\n",
    "\n",
    "$$\n",
    "<MM \\mid A \\otimes B \\otimes C> = tr(ABC)\\\\\n",
    "$$\n",
    "\n",
    "__Q:__ _No idea what is going on here... Notation!??_\n",
    "\n",
    "> The matrix multiplication tensor MM is characterized  by its\n",
    "symmetries. That is,  up to a constant, it is the unique operator fixed under the following action of $GL(n)^3$: give $X, Y, Y \\in GL(n)$ we have\n",
    "\n",
    "$$\n",
    "MM = (X \\otimes Y \\otimes Z) \\; MM \\; (Z^{-1} \\otimes X^{-1} \\otimes Y^{-1}) \\\\\n",
    "$$\n",
    "\n",
    "__Q:__ _So how are we applying $MM$ here? Via matmul?_"
   ]
  },
  {
   "cell_type": "markdown",
   "metadata": {},
   "source": [
    "### [The border support rank of two-by-two matrix multiplication is seven](https://arxiv.org/pdf/1705.09652.pdf)\n",
    "\n",
    "$$\n",
    "<n, n, n> = \\sum_{i, j, k \\in [n]} e_{ij} \\otimes e_{jk} \\otimes e_{ki} \\\\\n",
    "e \\in F^{n \\times n} \\otimes F^{n \\times n} \\otimes F^{n \\times n} \\\\\n",
    "$$\n",
    "\n",
    "__Q:__ _but how can $e$ be in $F^{n \\times n} $ if ... oh their notation..._\n",
    "\n",
    "Ok, if a hypermatrix is the generalisation of a matrix to higher dims, wtf is a tensor... how can you have a tensor without representing it as a hypermatrix?\n",
    "\n",
    "> The support of t is the set of coordinates where t has a nonzero coefficient. The support rank of t is the minimal rank of a tensor with the same support as t."
   ]
  },
  {
   "cell_type": "markdown",
   "metadata": {},
   "source": [
    "\n",
    "Questions !?!?\n",
    "\n",
    "- is the MMT 3 dims or 6?\n",
    "- how to construct it?"
   ]
  },
  {
   "cell_type": "code",
   "execution_count": 10,
   "metadata": {},
   "outputs": [],
   "source": [
    "def MM_tensor(n): \n",
    "    # MM(a,b,c,d,e,f) = 1(ae)1(bf)1(cd)\n",
    "    # A.B = C  >> (a x b) . (c x d) = (e x f) # no that doesnt seem right...\n",
    "    i, j, k = np.ogrid[:n, :n, :n]\n",
    "    M = np.zeros((n,n,n,n,n,n))\n",
    "    \n",
    "    M[i, :, :, :, i, :] = 1  # 1 if a == e\n",
    "    M[:, j, :, :, :, j] = 1  # 1 if b == f\n",
    "    M[:, :, k, k, :, :] = 1  # 1 if c == d\n",
    "    \n",
    "    # 1(ae)1(bc)1(df) makes more sense to me!?\n",
    "#     M[i, :, :, :, i, :] = 1  # 1 if a == e\n",
    "#     M[:, j, j, :, :, :] = 1  # 1 if b == c\n",
    "#     M[:, :, :, k, :, k] = 1  # 1 if d == f\n",
    "    # maybe not...??\n",
    "    return M"
   ]
  },
  {
   "cell_type": "code",
   "execution_count": 11,
   "metadata": {},
   "outputs": [
    {
     "data": {
      "text/plain": [
       "<matplotlib.image.AxesImage at 0x7f262f0de5f8>"
      ]
     },
     "execution_count": 11,
     "metadata": {},
     "output_type": "execute_result"
    },
    {
     "data": {
      "image/png": "[encoded data removed]",
      "text/plain": [
       "<Figure size 432x288 with 1 Axes>"
      ]
     },
     "metadata": {},
     "output_type": "display_data"
    }
   ],
   "source": [
    "n = 2\n",
    "M = MM_tensor(n)\n",
    "plt.imshow(M.reshape((n**3,n**3)), cmap='gray')"
   ]
  },
  {
   "cell_type": "code",
   "execution_count": 12,
   "metadata": {},
   "outputs": [
    {
     "data": {
      "image/png": "[encoded data removed]",
      "text/plain": [
       "<Figure size 432x288 with 1 Axes>"
      ]
     },
     "metadata": {},
     "output_type": "display_data"
    }
   ],
   "source": [
    "n = 2\n",
    "m = MM_tensor(n)\n",
    "m = m.reshape((n**3, -1))\n",
    "\n",
    "g = nx.from_numpy_matrix(m)\n",
    "g = nx.convert_node_labels_to_integers(g)\n",
    "nx.draw(g, pos=nx.spring_layout(g))"
   ]
  },
  {
   "cell_type": "markdown",
   "metadata": {},
   "source": [
    "## Rank\n",
    "Hmph. Need to more research on the rank of tensors.\n",
    "\n",
    "> The tensor rank of $v$ is the smallest number of rank-one tensors whose sum is $v$."
   ]
  },
  {
   "cell_type": "code",
   "execution_count": 69,
   "metadata": {},
   "outputs": [
    {
     "data": {
      "text/plain": [
       "array([[[[1, 2],\n",
       "         [2, 1]],\n",
       "\n",
       "        [[1, 2],\n",
       "         [2, 1]]],\n",
       "\n",
       "\n",
       "       [[[1, 2],\n",
       "         [2, 1]],\n",
       "\n",
       "        [[1, 2],\n",
       "         [2, 1]]]])"
      ]
     },
     "execution_count": 69,
     "metadata": {},
     "output_type": "execute_result"
    }
   ],
   "source": [
    "np.linalg.matrix_rank(M)"
   ]
  },
  {
   "cell_type": "code",
   "execution_count": null,
   "metadata": {},
   "outputs": [],
   "source": []
  },
  {
   "cell_type": "markdown",
   "metadata": {},
   "source": [
    "#### Border rank!?\n",
    "\n",
    "The border rank of a tensor\n",
    "$v \\in V_1 \\otimes \\dots \\otimes V_k$ is the smallest $r$ such than $v$ is a limit of tensors of rank at most $r$. The border rank is less than or equal to the rank, and indeed it can be strictly smaller. \n",
    "\n",
    "__Q:__ _How can v be a limit? The limit as rank(v) -> r? Why would that just give v?_\n",
    "\n",
    "| n | Tensor rank $\\ge$ | Tensor rank $\\le$  | Border rank $\\ge$ | Border rank $\\le$ |\n",
    "|---|---|---|---|---|\n",
    "| 2 | 7 | 7 | 7 | 7 |\n",
    "| 3 | 19 | 23 | 16 | 21 |\n",
    "| 4 | 34 | 49 | 29 | 49 |\n",
    "\n",
    "https://arxiv.org/pdf/1612.01527.pdf (has refs)\n",
    "\n",
    "\n",
    "Approximate ranks on the 'border'?!?\n",
    "[The border support rank of two-by-two matrix multiplication is seven](?)"
   ]
  },
  {
   "cell_type": "markdown",
   "metadata": {},
   "source": []
  },
  {
   "cell_type": "markdown",
   "metadata": {},
   "source": [
    "#### Support rank (!?)"
   ]
  },
  {
   "cell_type": "markdown",
   "metadata": {},
   "source": []
  },
  {
   "cell_type": "code",
   "execution_count": null,
   "metadata": {},
   "outputs": [],
   "source": []
  },
  {
   "cell_type": "code",
   "execution_count": null,
   "metadata": {},
   "outputs": [],
   "source": []
  },
  {
   "cell_type": "markdown",
   "metadata": {},
   "source": [
    "## Learning strassens algol\n",
    "\n",
    "http://jmlr.csail.mit.edu/papers/volume17/16-074/16-074.pdf"
   ]
  },
  {
   "cell_type": "code",
   "execution_count": 20,
   "metadata": {},
   "outputs": [],
   "source": [
    "\n",
    "import autograd.numpy as np\n",
    "import autograd.numpy.random as rnd\n",
    "from autograd import grad\n",
    "from autograd.misc.optimizers import adam"
   ]
  },
  {
   "cell_type": "code",
   "execution_count": 21,
   "metadata": {},
   "outputs": [
    {
     "data": {
      "text/plain": [
       "(50, 2, 2)"
      ]
     },
     "execution_count": 21,
     "metadata": {},
     "output_type": "execute_result"
    }
   ],
   "source": [
    "def tensor_representation(params, a, b):  \n",
    "    # need a regulariser on the rank?!\n",
    "    # reg = np.linalg.norm(mmt.reshape((n**3, n**3)), 'nuc')\n",
    "    return np.einsum('ijklmn,bij,bkl->bmn', params['mmt'], a, b)\n",
    "\n",
    "params = {\n",
    "    'mmt': rnd.standard_normal([n]*6)\n",
    "}\n",
    "x = np.random.random((50, 2, 2))\n",
    "tensor_representation(params, x, x).shape"
   ]
  },
  {
   "cell_type": "code",
   "execution_count": 22,
   "metadata": {},
   "outputs": [],
   "source": [
    "\n",
    "# def decomposed_representation(params, a, b):  # this doesnt work. why?\n",
    "#     mmt = np.einsum('ij,kl,mn->ikm', params['M_a'], params['M_b'], params['M_c'])\n",
    "#     return np.einsum('ijk,j,k->i', mmt, a.flatten(), b.flatten()).reshape((n,n))\n",
    "\n",
    "def net_constructor(params):\n",
    "    return np.dot(np.concatenate([params['M_a'], \n",
    "                                  params['M_b']]), \n",
    "                  params['M_c'].T)\n",
    "\n",
    "def net_representation(params, a, b):\n",
    "    x = np.concatenate([a, b], axis=1)\n",
    "    \n",
    "    M = net_constructor(params)\n",
    "    y = np.dot(x, M)\n",
    "    \n",
    "    return y.reshape((a.shape[0],a.shape[1]))"
   ]
  },
  {
   "cell_type": "code",
   "execution_count": 23,
   "metadata": {},
   "outputs": [],
   "source": [
    "\n",
    "    \n",
    "def mse(y, t):\n",
    "    return np.mean(np.sum(np.square(y-t), axis=1)) \n",
    "def lr_decay(n, lr):\n",
    "    return lr * 0.99 ** (n / 100)\n",
    "\n",
    "    \n",
    "def train(params, fn, n, iterations=10000, lr=0.01, batch_size=50):\n",
    "    losses = []\n",
    "    def loss_fn(params, t, a, b):\n",
    "        y = fn(params, a, b)\n",
    "        return mse(y, t)\n",
    "\n",
    "    dL = grad(loss_fn)\n",
    "    g_ = 0\n",
    "    for i in range(iterations):\n",
    "        # construct training data\n",
    "        # could/should do in batches?!\n",
    "        A = rnd.standard_normal((batch_size, n**2))\n",
    "        B = rnd.standard_normal((batch_size, n**2))\n",
    "        T = np.zeros((batch_size, n**2))\n",
    "        \n",
    "        for i in range(batch_size):\n",
    "            T[i, :] = np.dot(A[i, :].reshape((n,n)), B[i, :].reshape((n,n))).flatten()\n",
    "        \n",
    "        grads = dL(params, T, A, B)\n",
    "\n",
    "        for k, g in grads.items():\n",
    "            g_ = 0.9*g_ + g \n",
    "            params[k] -= lr_decay(i, lr)*g_\n",
    "            \n",
    "        L = loss_fn(params, T, A, B)\n",
    "        print('\\rLoss: {:.3f}'.format(L), end='', flush=True)\n",
    "        losses.append(L)\n",
    "\n",
    "    return params, losses"
   ]
  },
  {
   "cell_type": "code",
   "execution_count": 24,
   "metadata": {},
   "outputs": [
    {
     "name": "stdout",
     "output_type": "stream",
     "text": [
      "Loss: 6.564"
     ]
    }
   ],
   "source": [
    "n = 2\n",
    "r = 6\n",
    "params = {\n",
    "    'M_a': rnd.standard_normal((n**2, r)),\n",
    "    'M_b': rnd.standard_normal((n**2, r)),\n",
    "    'M_c': rnd.standard_normal((n**2, r)),\n",
    "}\n",
    "\n",
    "params, losses = train(params, net_representation, n=n, iterations=1000, lr=0.001)"
   ]
  },
  {
   "cell_type": "code",
   "execution_count": 25,
   "metadata": {},
   "outputs": [
    {
     "name": "stdout",
     "output_type": "stream",
     "text": [
      "Loss: 6.632"
     ]
    }
   ],
   "source": [
    "losses = np.zeros((10, 1000))\n",
    "for i, r in enumerate(range(2, 12)):\n",
    "    params = {\n",
    "        'M_a': rnd.standard_normal((n**2, r)),\n",
    "        'M_b': rnd.standard_normal((n**2, r)),\n",
    "        'M_c': rnd.standard_normal((n**2, r)),\n",
    "    }\n",
    "\n",
    "    params, L = train(params, net_representation, n=n, iterations=1000, lr=0.001)\n",
    "    losses[i, :] = L"
   ]
  },
  {
   "cell_type": "code",
   "execution_count": 244,
   "metadata": {},
   "outputs": [
    {
     "data": {
      "text/plain": [
       "(0, 20)"
      ]
     },
     "execution_count": 244,
     "metadata": {},
     "output_type": "execute_result"
    },
    {
     "data": {
      "image/png": "[encoded data removed]",
      "text/plain": [
       "<matplotlib.figure.Figure at 0x7f5e05cbceb8>"
      ]
     },
     "metadata": {},
     "output_type": "display_data"
    }
   ],
   "source": [
    "for i in range(10):\n",
    "    plt.plot(losses[i, ::4])\n",
    "    \n",
    "plt.ylim(0, 20)"
   ]
  },
  {
   "cell_type": "code",
   "execution_count": 249,
   "metadata": {},
   "outputs": [
    {
     "data": {
      "text/plain": [
       "<matplotlib.image.AxesImage at 0x7f5e05a5b1d0>"
      ]
     },
     "execution_count": 249,
     "metadata": {},
     "output_type": "execute_result"
    },
    {
     "data": {
      "image/png": "[encoded data removed]",
      "text/plain": [
       "<matplotlib.figure.Figure at 0x7f5e05c12320>"
      ]
     },
     "metadata": {},
     "output_type": "display_data"
    }
   ],
   "source": [
    "plt.imshow(net_constructor(params).reshape((n**2,n**3)), \n",
    "           cmap='gray', interpolation='nearest')"
   ]
  },
  {
   "cell_type": "code",
   "execution_count": 250,
   "metadata": {},
   "outputs": [
    {
     "ename": "ValueError",
     "evalue": "('Einstein sum subscript %s does not contain the correct number of indices for operand %d.', 'j', 1)",
     "output_type": "error",
     "traceback": [
      "\u001b[0;31m---------------------------------------------------------------------------\u001b[0m",
      "\u001b[0;31mValueError\u001b[0m                                Traceback (most recent call last)",
      "\u001b[0;32m<ipython-input-250-55a26b0d99fc>\u001b[0m in \u001b[0;36m<module>\u001b[0;34m()\u001b[0m\n\u001b[1;32m      3\u001b[0m }\n\u001b[1;32m      4\u001b[0m \u001b[0;34m\u001b[0m\u001b[0m\n\u001b[0;32m----> 5\u001b[0;31m \u001b[0mparams\u001b[0m \u001b[0;34m=\u001b[0m \u001b[0mtrain\u001b[0m\u001b[0;34m(\u001b[0m\u001b[0mparams\u001b[0m\u001b[0;34m,\u001b[0m \u001b[0mtensor_representation\u001b[0m\u001b[0;34m,\u001b[0m \u001b[0mn\u001b[0m\u001b[0;34m=\u001b[0m\u001b[0mn\u001b[0m\u001b[0;34m)\u001b[0m\u001b[0;34m\u001b[0m\u001b[0m\n\u001b[0m",
      "\u001b[0;32m<ipython-input-227-85cfacccd66c>\u001b[0m in \u001b[0;36mtrain\u001b[0;34m(params, fn, n, iterations, lr, batch_size)\u001b[0m\n\u001b[1;32m     25\u001b[0m             \u001b[0mT\u001b[0m\u001b[0;34m[\u001b[0m\u001b[0mi\u001b[0m\u001b[0;34m,\u001b[0m \u001b[0;34m:\u001b[0m\u001b[0;34m]\u001b[0m \u001b[0;34m=\u001b[0m \u001b[0mnp\u001b[0m\u001b[0;34m.\u001b[0m\u001b[0mdot\u001b[0m\u001b[0;34m(\u001b[0m\u001b[0mA\u001b[0m\u001b[0;34m[\u001b[0m\u001b[0mi\u001b[0m\u001b[0;34m,\u001b[0m \u001b[0;34m:\u001b[0m\u001b[0;34m]\u001b[0m\u001b[0;34m.\u001b[0m\u001b[0mreshape\u001b[0m\u001b[0;34m(\u001b[0m\u001b[0;34m(\u001b[0m\u001b[0mn\u001b[0m\u001b[0;34m,\u001b[0m\u001b[0mn\u001b[0m\u001b[0;34m)\u001b[0m\u001b[0;34m)\u001b[0m\u001b[0;34m,\u001b[0m \u001b[0mB\u001b[0m\u001b[0;34m[\u001b[0m\u001b[0mi\u001b[0m\u001b[0;34m,\u001b[0m \u001b[0;34m:\u001b[0m\u001b[0;34m]\u001b[0m\u001b[0;34m.\u001b[0m\u001b[0mreshape\u001b[0m\u001b[0;34m(\u001b[0m\u001b[0;34m(\u001b[0m\u001b[0mn\u001b[0m\u001b[0;34m,\u001b[0m\u001b[0mn\u001b[0m\u001b[0;34m)\u001b[0m\u001b[0;34m)\u001b[0m\u001b[0;34m)\u001b[0m\u001b[0;34m.\u001b[0m\u001b[0mflatten\u001b[0m\u001b[0;34m(\u001b[0m\u001b[0;34m)\u001b[0m\u001b[0;34m\u001b[0m\u001b[0m\n\u001b[1;32m     26\u001b[0m \u001b[0;34m\u001b[0m\u001b[0m\n\u001b[0;32m---> 27\u001b[0;31m         \u001b[0mgrads\u001b[0m \u001b[0;34m=\u001b[0m \u001b[0mdL\u001b[0m\u001b[0;34m(\u001b[0m\u001b[0mparams\u001b[0m\u001b[0;34m,\u001b[0m \u001b[0mT\u001b[0m\u001b[0;34m,\u001b[0m \u001b[0mA\u001b[0m\u001b[0;34m,\u001b[0m \u001b[0mB\u001b[0m\u001b[0;34m)\u001b[0m\u001b[0;34m\u001b[0m\u001b[0m\n\u001b[0m\u001b[1;32m     28\u001b[0m \u001b[0;34m\u001b[0m\u001b[0m\n\u001b[1;32m     29\u001b[0m         \u001b[0;32mfor\u001b[0m \u001b[0mk\u001b[0m\u001b[0;34m,\u001b[0m \u001b[0mg\u001b[0m \u001b[0;32min\u001b[0m \u001b[0mgrads\u001b[0m\u001b[0;34m.\u001b[0m\u001b[0mitems\u001b[0m\u001b[0;34m(\u001b[0m\u001b[0;34m)\u001b[0m\u001b[0;34m:\u001b[0m\u001b[0;34m\u001b[0m\u001b[0m\n",
      "\u001b[0;32m~/anaconda3/lib/python3.6/site-packages/autograd/wrap_util.py\u001b[0m in \u001b[0;36mnary_f\u001b[0;34m(*args, **kwargs)\u001b[0m\n\u001b[1;32m     18\u001b[0m             \u001b[0;32melse\u001b[0m\u001b[0;34m:\u001b[0m\u001b[0;34m\u001b[0m\u001b[0m\n\u001b[1;32m     19\u001b[0m                 \u001b[0mx\u001b[0m \u001b[0;34m=\u001b[0m \u001b[0mtuple\u001b[0m\u001b[0;34m(\u001b[0m\u001b[0margs\u001b[0m\u001b[0;34m[\u001b[0m\u001b[0mi\u001b[0m\u001b[0;34m]\u001b[0m \u001b[0;32mfor\u001b[0m \u001b[0mi\u001b[0m \u001b[0;32min\u001b[0m \u001b[0margnum\u001b[0m\u001b[0;34m)\u001b[0m\u001b[0;34m\u001b[0m\u001b[0m\n\u001b[0;32m---> 20\u001b[0;31m             \u001b[0;32mreturn\u001b[0m \u001b[0munary_operator\u001b[0m\u001b[0;34m(\u001b[0m\u001b[0munary_f\u001b[0m\u001b[0;34m,\u001b[0m \u001b[0mx\u001b[0m\u001b[0;34m,\u001b[0m \u001b[0;34m*\u001b[0m\u001b[0mnary_op_args\u001b[0m\u001b[0;34m,\u001b[0m \u001b[0;34m**\u001b[0m\u001b[0mnary_op_kwargs\u001b[0m\u001b[0;34m)\u001b[0m\u001b[0;34m\u001b[0m\u001b[0m\n\u001b[0m\u001b[1;32m     21\u001b[0m         \u001b[0;32mreturn\u001b[0m \u001b[0mnary_f\u001b[0m\u001b[0;34m\u001b[0m\u001b[0m\n\u001b[1;32m     22\u001b[0m     \u001b[0;32mreturn\u001b[0m \u001b[0mnary_operator\u001b[0m\u001b[0;34m\u001b[0m\u001b[0m\n",
      "\u001b[0;32m~/anaconda3/lib/python3.6/site-packages/autograd/differential_operators.py\u001b[0m in \u001b[0;36mgrad\u001b[0;34m(fun, x)\u001b[0m\n\u001b[1;32m     22\u001b[0m     \u001b[0marguments\u001b[0m \u001b[0;32mas\u001b[0m\u001b[0;31m \u001b[0m\u001b[0;31m`\u001b[0m\u001b[0mfun\u001b[0m\u001b[0;31m`\u001b[0m\u001b[0;34m,\u001b[0m \u001b[0mbut\u001b[0m \u001b[0mreturns\u001b[0m \u001b[0mthe\u001b[0m \u001b[0mgradient\u001b[0m \u001b[0minstead\u001b[0m\u001b[0;34m.\u001b[0m \u001b[0mThe\u001b[0m \u001b[0mfunction\u001b[0m\u001b[0;31m \u001b[0m\u001b[0;31m`\u001b[0m\u001b[0mfun\u001b[0m\u001b[0;31m`\u001b[0m\u001b[0;34m\u001b[0m\u001b[0m\n\u001b[1;32m     23\u001b[0m     should be scalar-valued. The gradient has the same type as the argument.\"\"\"\n\u001b[0;32m---> 24\u001b[0;31m     \u001b[0mvjp\u001b[0m\u001b[0;34m,\u001b[0m \u001b[0mans\u001b[0m \u001b[0;34m=\u001b[0m \u001b[0m_make_vjp\u001b[0m\u001b[0;34m(\u001b[0m\u001b[0mfun\u001b[0m\u001b[0;34m,\u001b[0m \u001b[0mx\u001b[0m\u001b[0;34m)\u001b[0m\u001b[0;34m\u001b[0m\u001b[0m\n\u001b[0m\u001b[1;32m     25\u001b[0m     \u001b[0;32mif\u001b[0m \u001b[0;32mnot\u001b[0m \u001b[0mvspace\u001b[0m\u001b[0;34m(\u001b[0m\u001b[0mans\u001b[0m\u001b[0;34m)\u001b[0m\u001b[0;34m.\u001b[0m\u001b[0msize\u001b[0m \u001b[0;34m==\u001b[0m \u001b[0;36m1\u001b[0m\u001b[0;34m:\u001b[0m\u001b[0;34m\u001b[0m\u001b[0m\n\u001b[1;32m     26\u001b[0m         raise TypeError(\"Grad only applies to real scalar-output functions. \"\n",
      "\u001b[0;32m~/anaconda3/lib/python3.6/site-packages/autograd/core.py\u001b[0m in \u001b[0;36mmake_vjp\u001b[0;34m(fun, x)\u001b[0m\n\u001b[1;32m      8\u001b[0m \u001b[0;32mdef\u001b[0m \u001b[0mmake_vjp\u001b[0m\u001b[0;34m(\u001b[0m\u001b[0mfun\u001b[0m\u001b[0;34m,\u001b[0m \u001b[0mx\u001b[0m\u001b[0;34m)\u001b[0m\u001b[0;34m:\u001b[0m\u001b[0;34m\u001b[0m\u001b[0m\n\u001b[1;32m      9\u001b[0m     \u001b[0mstart_node\u001b[0m \u001b[0;34m=\u001b[0m \u001b[0mVJPNode\u001b[0m\u001b[0;34m.\u001b[0m\u001b[0mnew_root\u001b[0m\u001b[0;34m(\u001b[0m\u001b[0mx\u001b[0m\u001b[0;34m)\u001b[0m\u001b[0;34m\u001b[0m\u001b[0m\n\u001b[0;32m---> 10\u001b[0;31m     \u001b[0mend_value\u001b[0m\u001b[0;34m,\u001b[0m \u001b[0mend_node\u001b[0m \u001b[0;34m=\u001b[0m  \u001b[0mtrace\u001b[0m\u001b[0;34m(\u001b[0m\u001b[0mstart_node\u001b[0m\u001b[0;34m,\u001b[0m \u001b[0mfun\u001b[0m\u001b[0;34m,\u001b[0m \u001b[0mx\u001b[0m\u001b[0;34m)\u001b[0m\u001b[0;34m\u001b[0m\u001b[0m\n\u001b[0m\u001b[1;32m     11\u001b[0m     \u001b[0;32mif\u001b[0m \u001b[0mend_node\u001b[0m \u001b[0;32mis\u001b[0m \u001b[0;32mNone\u001b[0m\u001b[0;34m:\u001b[0m\u001b[0;34m\u001b[0m\u001b[0m\n\u001b[1;32m     12\u001b[0m         \u001b[0;32mdef\u001b[0m \u001b[0mvjp\u001b[0m\u001b[0;34m(\u001b[0m\u001b[0mg\u001b[0m\u001b[0;34m)\u001b[0m\u001b[0;34m:\u001b[0m \u001b[0;32mreturn\u001b[0m \u001b[0mvspace\u001b[0m\u001b[0;34m(\u001b[0m\u001b[0mx\u001b[0m\u001b[0;34m)\u001b[0m\u001b[0;34m.\u001b[0m\u001b[0mzeros\u001b[0m\u001b[0;34m(\u001b[0m\u001b[0;34m)\u001b[0m\u001b[0;34m\u001b[0m\u001b[0m\n",
      "\u001b[0;32m~/anaconda3/lib/python3.6/site-packages/autograd/tracer.py\u001b[0m in \u001b[0;36mtrace\u001b[0;34m(start_node, fun, x)\u001b[0m\n\u001b[1;32m      8\u001b[0m     \u001b[0;32mwith\u001b[0m \u001b[0mtrace_stack\u001b[0m\u001b[0;34m.\u001b[0m\u001b[0mnew_trace\u001b[0m\u001b[0;34m(\u001b[0m\u001b[0;34m)\u001b[0m \u001b[0;32mas\u001b[0m \u001b[0mt\u001b[0m\u001b[0;34m:\u001b[0m\u001b[0;34m\u001b[0m\u001b[0m\n\u001b[1;32m      9\u001b[0m         \u001b[0mstart_box\u001b[0m \u001b[0;34m=\u001b[0m \u001b[0mnew_box\u001b[0m\u001b[0;34m(\u001b[0m\u001b[0mx\u001b[0m\u001b[0;34m,\u001b[0m \u001b[0mt\u001b[0m\u001b[0;34m,\u001b[0m \u001b[0mstart_node\u001b[0m\u001b[0;34m)\u001b[0m\u001b[0;34m\u001b[0m\u001b[0m\n\u001b[0;32m---> 10\u001b[0;31m         \u001b[0mend_box\u001b[0m \u001b[0;34m=\u001b[0m \u001b[0mfun\u001b[0m\u001b[0;34m(\u001b[0m\u001b[0mstart_box\u001b[0m\u001b[0;34m)\u001b[0m\u001b[0;34m\u001b[0m\u001b[0m\n\u001b[0m\u001b[1;32m     11\u001b[0m         \u001b[0;32mif\u001b[0m \u001b[0misbox\u001b[0m\u001b[0;34m(\u001b[0m\u001b[0mend_box\u001b[0m\u001b[0;34m)\u001b[0m \u001b[0;32mand\u001b[0m \u001b[0mend_box\u001b[0m\u001b[0;34m.\u001b[0m\u001b[0m_trace\u001b[0m \u001b[0;34m==\u001b[0m \u001b[0mstart_box\u001b[0m\u001b[0;34m.\u001b[0m\u001b[0m_trace\u001b[0m\u001b[0;34m:\u001b[0m\u001b[0;34m\u001b[0m\u001b[0m\n\u001b[1;32m     12\u001b[0m             \u001b[0;32mreturn\u001b[0m \u001b[0mend_box\u001b[0m\u001b[0;34m.\u001b[0m\u001b[0m_value\u001b[0m\u001b[0;34m,\u001b[0m \u001b[0mend_box\u001b[0m\u001b[0;34m.\u001b[0m\u001b[0m_node\u001b[0m\u001b[0;34m\u001b[0m\u001b[0m\n",
      "\u001b[0;32m~/anaconda3/lib/python3.6/site-packages/autograd/wrap_util.py\u001b[0m in \u001b[0;36munary_f\u001b[0;34m(x)\u001b[0m\n\u001b[1;32m     13\u001b[0m                 \u001b[0;32melse\u001b[0m\u001b[0;34m:\u001b[0m\u001b[0;34m\u001b[0m\u001b[0m\n\u001b[1;32m     14\u001b[0m                     \u001b[0msubargs\u001b[0m \u001b[0;34m=\u001b[0m \u001b[0msubvals\u001b[0m\u001b[0;34m(\u001b[0m\u001b[0margs\u001b[0m\u001b[0;34m,\u001b[0m \u001b[0mzip\u001b[0m\u001b[0;34m(\u001b[0m\u001b[0margnum\u001b[0m\u001b[0;34m,\u001b[0m \u001b[0mx\u001b[0m\u001b[0;34m)\u001b[0m\u001b[0;34m)\u001b[0m\u001b[0;34m\u001b[0m\u001b[0m\n\u001b[0;32m---> 15\u001b[0;31m                 \u001b[0;32mreturn\u001b[0m \u001b[0mfun\u001b[0m\u001b[0;34m(\u001b[0m\u001b[0;34m*\u001b[0m\u001b[0msubargs\u001b[0m\u001b[0;34m,\u001b[0m \u001b[0;34m**\u001b[0m\u001b[0mkwargs\u001b[0m\u001b[0;34m)\u001b[0m\u001b[0;34m\u001b[0m\u001b[0m\n\u001b[0m\u001b[1;32m     16\u001b[0m             \u001b[0;32mif\u001b[0m \u001b[0misinstance\u001b[0m\u001b[0;34m(\u001b[0m\u001b[0margnum\u001b[0m\u001b[0;34m,\u001b[0m \u001b[0mint\u001b[0m\u001b[0;34m)\u001b[0m\u001b[0;34m:\u001b[0m\u001b[0;34m\u001b[0m\u001b[0m\n\u001b[1;32m     17\u001b[0m                 \u001b[0mx\u001b[0m \u001b[0;34m=\u001b[0m \u001b[0margs\u001b[0m\u001b[0;34m[\u001b[0m\u001b[0margnum\u001b[0m\u001b[0;34m]\u001b[0m\u001b[0;34m\u001b[0m\u001b[0m\n",
      "\u001b[0;32m<ipython-input-227-85cfacccd66c>\u001b[0m in \u001b[0;36mloss_fn\u001b[0;34m(params, t, a, b)\u001b[0m\n\u001b[1;32m     10\u001b[0m     \u001b[0mlosses\u001b[0m \u001b[0;34m=\u001b[0m \u001b[0;34m[\u001b[0m\u001b[0;34m]\u001b[0m\u001b[0;34m\u001b[0m\u001b[0m\n\u001b[1;32m     11\u001b[0m     \u001b[0;32mdef\u001b[0m \u001b[0mloss_fn\u001b[0m\u001b[0;34m(\u001b[0m\u001b[0mparams\u001b[0m\u001b[0;34m,\u001b[0m \u001b[0mt\u001b[0m\u001b[0;34m,\u001b[0m \u001b[0ma\u001b[0m\u001b[0;34m,\u001b[0m \u001b[0mb\u001b[0m\u001b[0;34m)\u001b[0m\u001b[0;34m:\u001b[0m\u001b[0;34m\u001b[0m\u001b[0m\n\u001b[0;32m---> 12\u001b[0;31m         \u001b[0my\u001b[0m \u001b[0;34m=\u001b[0m \u001b[0mfn\u001b[0m\u001b[0;34m(\u001b[0m\u001b[0mparams\u001b[0m\u001b[0;34m,\u001b[0m \u001b[0ma\u001b[0m\u001b[0;34m,\u001b[0m \u001b[0mb\u001b[0m\u001b[0;34m)\u001b[0m\u001b[0;34m\u001b[0m\u001b[0m\n\u001b[0m\u001b[1;32m     13\u001b[0m         \u001b[0;32mreturn\u001b[0m \u001b[0mmse\u001b[0m\u001b[0;34m(\u001b[0m\u001b[0my\u001b[0m\u001b[0;34m,\u001b[0m \u001b[0mt\u001b[0m\u001b[0;34m)\u001b[0m\u001b[0;34m\u001b[0m\u001b[0m\n\u001b[1;32m     14\u001b[0m \u001b[0;34m\u001b[0m\u001b[0m\n",
      "\u001b[0;32m<ipython-input-224-7701f06bcdef>\u001b[0m in \u001b[0;36mtensor_representation\u001b[0;34m(params, a, b)\u001b[0m\n\u001b[1;32m      2\u001b[0m     \u001b[0;31m# need a regulariser on the rank?!\u001b[0m\u001b[0;34m\u001b[0m\u001b[0;34m\u001b[0m\u001b[0m\n\u001b[1;32m      3\u001b[0m     \u001b[0;31m# reg = np.linalg.norm(mmt.reshape((n**3, n**3)), 'nuc')\u001b[0m\u001b[0;34m\u001b[0m\u001b[0;34m\u001b[0m\u001b[0m\n\u001b[0;32m----> 4\u001b[0;31m     \u001b[0;32mreturn\u001b[0m \u001b[0mnp\u001b[0m\u001b[0;34m.\u001b[0m\u001b[0meinsum\u001b[0m\u001b[0;34m(\u001b[0m\u001b[0;34m'ijklmn,bij,bkl->bmn'\u001b[0m\u001b[0;34m,\u001b[0m \u001b[0mparams\u001b[0m\u001b[0;34m[\u001b[0m\u001b[0;34m'mmt'\u001b[0m\u001b[0;34m]\u001b[0m\u001b[0;34m,\u001b[0m \u001b[0ma\u001b[0m\u001b[0;34m,\u001b[0m \u001b[0mb\u001b[0m\u001b[0;34m)\u001b[0m\u001b[0;34m\u001b[0m\u001b[0m\n\u001b[0m\u001b[1;32m      5\u001b[0m \u001b[0;34m\u001b[0m\u001b[0m\n\u001b[1;32m      6\u001b[0m params = {\n",
      "\u001b[0;32m~/anaconda3/lib/python3.6/site-packages/autograd/tracer.py\u001b[0m in \u001b[0;36mf_wrapped\u001b[0;34m(*args, **kwargs)\u001b[0m\n\u001b[1;32m     42\u001b[0m             \u001b[0mparents\u001b[0m \u001b[0;34m=\u001b[0m \u001b[0mtuple\u001b[0m\u001b[0;34m(\u001b[0m\u001b[0mbox\u001b[0m\u001b[0;34m.\u001b[0m\u001b[0m_node\u001b[0m \u001b[0;32mfor\u001b[0m \u001b[0m_\u001b[0m     \u001b[0;34m,\u001b[0m \u001b[0mbox\u001b[0m \u001b[0;32min\u001b[0m \u001b[0mboxed_args\u001b[0m\u001b[0;34m)\u001b[0m\u001b[0;34m\u001b[0m\u001b[0m\n\u001b[1;32m     43\u001b[0m             \u001b[0margnums\u001b[0m \u001b[0;34m=\u001b[0m \u001b[0mtuple\u001b[0m\u001b[0;34m(\u001b[0m\u001b[0margnum\u001b[0m    \u001b[0;32mfor\u001b[0m \u001b[0margnum\u001b[0m\u001b[0;34m,\u001b[0m \u001b[0m_\u001b[0m   \u001b[0;32min\u001b[0m \u001b[0mboxed_args\u001b[0m\u001b[0;34m)\u001b[0m\u001b[0;34m\u001b[0m\u001b[0m\n\u001b[0;32m---> 44\u001b[0;31m             \u001b[0mans\u001b[0m \u001b[0;34m=\u001b[0m \u001b[0mf_wrapped\u001b[0m\u001b[0;34m(\u001b[0m\u001b[0;34m*\u001b[0m\u001b[0margvals\u001b[0m\u001b[0;34m,\u001b[0m \u001b[0;34m**\u001b[0m\u001b[0mkwargs\u001b[0m\u001b[0;34m)\u001b[0m\u001b[0;34m\u001b[0m\u001b[0m\n\u001b[0m\u001b[1;32m     45\u001b[0m             \u001b[0mnode\u001b[0m \u001b[0;34m=\u001b[0m \u001b[0mnode_constructor\u001b[0m\u001b[0;34m(\u001b[0m\u001b[0mans\u001b[0m\u001b[0;34m,\u001b[0m \u001b[0mf_wrapped\u001b[0m\u001b[0;34m,\u001b[0m \u001b[0margvals\u001b[0m\u001b[0;34m,\u001b[0m \u001b[0mkwargs\u001b[0m\u001b[0;34m,\u001b[0m \u001b[0margnums\u001b[0m\u001b[0;34m,\u001b[0m \u001b[0mparents\u001b[0m\u001b[0;34m)\u001b[0m\u001b[0;34m\u001b[0m\u001b[0m\n\u001b[1;32m     46\u001b[0m             \u001b[0;32mreturn\u001b[0m \u001b[0mnew_box\u001b[0m\u001b[0;34m(\u001b[0m\u001b[0mans\u001b[0m\u001b[0;34m,\u001b[0m \u001b[0mtrace\u001b[0m\u001b[0;34m,\u001b[0m \u001b[0mnode\u001b[0m\u001b[0;34m)\u001b[0m\u001b[0;34m\u001b[0m\u001b[0m\n",
      "\u001b[0;32m~/anaconda3/lib/python3.6/site-packages/autograd/tracer.py\u001b[0m in \u001b[0;36mf_wrapped\u001b[0;34m(*args, **kwargs)\u001b[0m\n\u001b[1;32m     46\u001b[0m             \u001b[0;32mreturn\u001b[0m \u001b[0mnew_box\u001b[0m\u001b[0;34m(\u001b[0m\u001b[0mans\u001b[0m\u001b[0;34m,\u001b[0m \u001b[0mtrace\u001b[0m\u001b[0;34m,\u001b[0m \u001b[0mnode\u001b[0m\u001b[0;34m)\u001b[0m\u001b[0;34m\u001b[0m\u001b[0m\n\u001b[1;32m     47\u001b[0m         \u001b[0;32melse\u001b[0m\u001b[0;34m:\u001b[0m\u001b[0;34m\u001b[0m\u001b[0m\n\u001b[0;32m---> 48\u001b[0;31m             \u001b[0;32mreturn\u001b[0m \u001b[0mf_raw\u001b[0m\u001b[0;34m(\u001b[0m\u001b[0;34m*\u001b[0m\u001b[0margs\u001b[0m\u001b[0;34m,\u001b[0m \u001b[0;34m**\u001b[0m\u001b[0mkwargs\u001b[0m\u001b[0;34m)\u001b[0m\u001b[0;34m\u001b[0m\u001b[0m\n\u001b[0m\u001b[1;32m     49\u001b[0m     \u001b[0mf_wrapped\u001b[0m\u001b[0;34m.\u001b[0m\u001b[0mfun\u001b[0m \u001b[0;34m=\u001b[0m \u001b[0mf_raw\u001b[0m\u001b[0;34m\u001b[0m\u001b[0m\n\u001b[1;32m     50\u001b[0m     \u001b[0mf_wrapped\u001b[0m\u001b[0;34m.\u001b[0m\u001b[0m_is_autograd_primitive\u001b[0m \u001b[0;34m=\u001b[0m \u001b[0;32mTrue\u001b[0m\u001b[0;34m\u001b[0m\u001b[0m\n",
      "\u001b[0;32m~/anaconda3/lib/python3.6/site-packages/numpy/core/einsumfunc.py\u001b[0m in \u001b[0;36meinsum\u001b[0;34m(*operands, **kwargs)\u001b[0m\n\u001b[1;32m   1085\u001b[0m     \u001b[0;31m# Build the contraction list and operand\u001b[0m\u001b[0;34m\u001b[0m\u001b[0;34m\u001b[0m\u001b[0m\n\u001b[1;32m   1086\u001b[0m     operands, contraction_list = einsum_path(*operands, optimize=optimize_arg,\n\u001b[0;32m-> 1087\u001b[0;31m                                              einsum_call=True)\n\u001b[0m\u001b[1;32m   1088\u001b[0m \u001b[0;34m\u001b[0m\u001b[0m\n\u001b[1;32m   1089\u001b[0m     \u001b[0mhandle_out\u001b[0m \u001b[0;34m=\u001b[0m \u001b[0;32mFalse\u001b[0m\u001b[0;34m\u001b[0m\u001b[0m\n",
      "\u001b[0;32m~/anaconda3/lib/python3.6/site-packages/numpy/core/einsumfunc.py\u001b[0m in \u001b[0;36meinsum_path\u001b[0;34m(*operands, **kwargs)\u001b[0m\n\u001b[1;32m    702\u001b[0m             raise ValueError(\"Einstein sum subscript %s does not contain the \"\n\u001b[1;32m    703\u001b[0m                              \u001b[0;34m\"correct number of indices for operand %d.\"\u001b[0m\u001b[0;34m,\u001b[0m\u001b[0;34m\u001b[0m\u001b[0m\n\u001b[0;32m--> 704\u001b[0;31m                              input_subscripts[tnum], tnum)\n\u001b[0m\u001b[1;32m    705\u001b[0m         \u001b[0;32mfor\u001b[0m \u001b[0mcnum\u001b[0m\u001b[0;34m,\u001b[0m \u001b[0mchar\u001b[0m \u001b[0;32min\u001b[0m \u001b[0menumerate\u001b[0m\u001b[0;34m(\u001b[0m\u001b[0mterm\u001b[0m\u001b[0;34m)\u001b[0m\u001b[0;34m:\u001b[0m\u001b[0;34m\u001b[0m\u001b[0m\n\u001b[1;32m    706\u001b[0m             \u001b[0mdim\u001b[0m \u001b[0;34m=\u001b[0m \u001b[0msh\u001b[0m\u001b[0;34m[\u001b[0m\u001b[0mcnum\u001b[0m\u001b[0;34m]\u001b[0m\u001b[0;34m\u001b[0m\u001b[0m\n",
      "\u001b[0;31mValueError\u001b[0m: ('Einstein sum subscript %s does not contain the correct number of indices for operand %d.', 'j', 1)"
     ]
    }
   ],
   "source": [
    "params = {\n",
    "    'mmt': rnd.standard_normal([n]*6)\n",
    "}\n",
    "\n",
    "params = train(params, tensor_representation, n=n)"
   ]
  },
  {
   "cell_type": "code",
   "execution_count": 19,
   "metadata": {},
   "outputs": [
    {
     "data": {
      "text/plain": [
       "<matplotlib.image.AxesImage at 0x7f5e07a916d8>"
      ]
     },
     "execution_count": 19,
     "metadata": {},
     "output_type": "execute_result"
    },
    {
     "data": {
      "image/png": "[encoded data removed]",
      "text/plain": [
       "<matplotlib.figure.Figure at 0x7f5e07a65eb8>"
      ]
     },
     "metadata": {},
     "output_type": "display_data"
    }
   ],
   "source": [
    "plt.imshow(params['mmt'].reshape((n**3,n**3)), cmap='gray', interpolation='nearest')"
   ]
  },
  {
   "cell_type": "code",
   "execution_count": null,
   "metadata": {},
   "outputs": [],
   "source": [
    "# this is too expensive. \n",
    "# is there a better way to solve these?!?\n",
    "ranks = []\n",
    "for i in range(2, 10):\n",
    "    params = {\n",
    "        'mmt': rnd.standard_normal([i]*6)\n",
    "    }\n",
    "\n",
    "    params = train(params, tensor_representation, i, 0.001/i)\n",
    "    ranks.append(np.linalg.matrix_rank(params['mmt'].reshape((i**3,i**3))))"
   ]
  },
  {
   "cell_type": "code",
   "execution_count": null,
   "metadata": {},
   "outputs": [],
   "source": []
  },
  {
   "cell_type": "code",
   "execution_count": null,
   "metadata": {},
   "outputs": [],
   "source": []
  },
  {
   "cell_type": "code",
   "execution_count": null,
   "metadata": {},
   "outputs": [],
   "source": []
  },
  {
   "cell_type": "markdown",
   "metadata": {},
   "source": [
    "__TODO__\n",
    "- Make a toy computer that can compute a 2x2 matmul!?!"
   ]
  }
 ],
 "metadata": {
  "kernelspec": {
   "display_name": "Python 3",
   "language": "python",
   "name": "python3"
  },
  "language_info": {
   "codemirror_mode": {
    "name": "ipython",
    "version": 3
   },
   "file_extension": ".py",
   "mimetype": "text/x-python",
   "name": "python",
   "nbconvert_exporter": "python",
   "pygments_lexer": "ipython3",
   "version": "3.6.4"
  }
 },
 "nbformat": 4,
 "nbformat_minor": 2
}
