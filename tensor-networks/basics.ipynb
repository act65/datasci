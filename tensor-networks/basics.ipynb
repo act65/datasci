{
 "cells": [
  {
   "cell_type": "markdown",
   "metadata": {},
   "source": [
    "Background\n",
    "https://en.wikipedia.org/wiki/Matrix_(mathematics)\n",
    "\n",
    "# Tensors\n",
    "\n",
    "Lets build some intution for what a tensor is.\n",
    "(possibilities? a function -- of indexes, a set of bases, a transfomation, vectors, an array of numbers, a graph, ?)\n",
    "\n",
    "## Encoding real world info\n",
    "\n",
    "Imagine we have a ball and our goal is to throw it as far as we can (2 dimansion, x and y -- t is redundant). We get three attempts (.\n",
    "\n",
    "Naming convention. The number of dimensions a tensor has and how many dimension each dimension has...\n",
    "\n",
    "What is a classic example of a linear system? Examples from; health, ecology, physical systems, economics, ...\n",
    "Do they all encode information in the 'same' way?\n",
    "\n",
    "## Operations\n",
    "\n",
    "Tensor vector product. What does it mean? Want some intuition for a contraction.\n",
    "\n",
    "if A is a linear transformation (shift, rotation, stretch) of x (Ax). Then what is $\\mathcal Ax$? Imagine $\\mathcal A \\in \\mathbb R^{l,n,m}$, then the projection of x through the tensor is a collection of\n",
    "\n",
    "\n",
    "#### Tensor product (kronecker/outer product).\n",
    "\n",
    "* How can you measure the similarity of two tensors?\n",
    "* How can you compose two tensors?\n",
    "*\n",
    "\n",
    "#### Tensor contractions\n",
    "\n",
    "why do we care?\n",
    "\n",
    "Relationship to matmul\n",
    "Intuitive ways to view it\n",
    "\n",
    "\n",
    "## As an operator\n",
    "\n",
    "https://github.com/act65/act65.github.io/blob/master/_drafts/2016-9-26-EmbedLinAlg.md\n",
    "\n",
    "Duality of linear functions as operators and operands.\n",
    "https://en.wikipedia.org/wiki/Representation_theory\n",
    "https://en.wikipedia.org/wiki/Operator_algebra\n",
    "https://en.wikipedia.org/wiki/General_linear_group\n",
    "https://en.wikipedia.org/wiki/Group_representation\n",
    "\n",
    "## Basic properties\n",
    "\n",
    "* Rank has some weird properties when compared to matrices.\n",
    "* What about the determinant?\n",
    "* Inversion is probably hard?\n",
    "* Exponential increase in size\n"
   ]
  },
  {
   "cell_type": "markdown",
   "metadata": {},
   "source": [
    "# Tensor networks\n",
    "\n",
    "Ok cool, so why do we care about tensor-networks?\n",
    "Allows us to construct these large tensors from smaller parts.\n",
    "Show some simple examples.\n",
    "BUT. What is sacrificed by doing this? Can no longer represent as much. On some lower dimensional manifold in the same high dimensional space.\n",
    "\n",
    "(want some intuition for this!!! how is a TN on a lower dim manifold? we could also construct ones on higher dim manifolds.)\n",
    "What if i recursively decompsed the cores and shared them so I only needed one parameter? How is this like a space filling curve?\n",
    "\n",
    "## As a graph\n",
    "\n",
    "* If a matrix can be viewed as a bipartide graph, then a tensor...? (draw SVD as a graph! the image in your head)\n",
    "\n",
    "\n",
    "\n",
    "## Questions\n",
    "\n",
    "* If a tensor is constructed from a symmetric tensor-network then ...???\n",
    "* "
   ]
  },
  {
   "cell_type": "markdown",
   "metadata": {},
   "source": [
    "## Representations\n",
    "\n",
    "Duals, complex numbers, logic, ...?"
   ]
  }
 ],
 "metadata": {
  "kernelspec": {
   "display_name": "Python 3",
   "language": "python",
   "name": "python3"
  },
  "language_info": {
   "codemirror_mode": {
    "name": "ipython",
    "version": 3
   },
   "file_extension": ".py",
   "mimetype": "text/x-python",
   "name": "python",
   "nbconvert_exporter": "python",
   "pygments_lexer": "ipython3",
   "version": "3.6.4"
  }
 },
 "nbformat": 4,
 "nbformat_minor": 2
}
