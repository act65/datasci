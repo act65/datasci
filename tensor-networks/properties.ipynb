{
 "cells": [
  {
   "cell_type": "markdown",
   "metadata": {},
   "source": [
    "Want, the ability to generate various tensors and measure their properties.\n",
    "Pretty much, want to do unsupervised learning of matrices and tensors.\n",
    "Properties are defined not by their values but by how they can be composed, transformed, ... Not sure how to make this happen, but !!!.\n",
    "\n",
    "What are we generating based on?\n",
    "- Structure/symmetry?\n",
    "- How it transforms a space?\n",
    "- Topology of a TN?\n",
    "- ?\n",
    "\n",
    "\n",
    "Is it possible to construct a toeplitz matrix with a tensor-network?\n",
    "\n",
    "\n",
    "***\n",
    "\n",
    "Toeplitz (can be used to encode convolutions), circulant (?) and hankel (can be used to encode automata!?).\n",
    "\n",
    "Orthogonal, stochastic, orthonormal,\n",
    "\n",
    "Block, block-diagonal (used to encode independent systems?), ?\n",
    "\n",
    "Hermitian,\n",
    "\n",
    "https://en.wikipedia.org/wiki/List_of_matrices"
   ]
  },
  {
   "cell_type": "code",
   "execution_count": null,
   "metadata": {},
   "outputs": [],
   "source": []
  }
 ],
 "metadata": {
  "kernelspec": {
   "display_name": "Python 3",
   "language": "python",
   "name": "python3"
  },
  "language_info": {
   "codemirror_mode": {
    "name": "ipython",
    "version": 3
   },
   "file_extension": ".py",
   "mimetype": "text/x-python",
   "name": "python",
   "nbconvert_exporter": "python",
   "pygments_lexer": "ipython3",
   "version": "3.6.4"
  }
 },
 "nbformat": 4,
 "nbformat_minor": 2
}
