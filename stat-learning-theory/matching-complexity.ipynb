{
 "cells": [
  {
   "cell_type": "markdown",
   "metadata": {},
   "source": [
    "Goal, to be able to take the approximator fn class, data and learning algol and predict learnability.\n",
    "\n",
    "Learnability defined as? How `often`(from random inits) a `good`(low loss on test set?) `solution`(converged?) is learnt?\n",
    "\n",
    "- If $\\mathcal C_{data} > \\mathcal C_{model}$ then not learnable.\n",
    "- If $\\mathcal C_{data} < \\mathcal C_{model}$ then learnable (but might overfit?).\n",
    "- If $\\mathcal C_{data} << \\mathcal C_{model}$ then not learnable (hmm, empirically not true...).\n",
    "\n",
    "\n",
    "Note; we only get to control the model, thus the focus on representional capacity measures?\n",
    "\n",
    "## Representational complexity (/Capacity measures)\n",
    "\n",
    "Capacity measures allow us to cheat? As we use some form of Occam's razor assumption. \n",
    "The 'simplest' function that can fit the data will generalise the best.\n",
    "BUT, this is complicated by the fact that 'fit' may not be perfect. Thus we may need to trade-off fit and simplicity.\n",
    "\n",
    "\n",
    "## Data complexity\n",
    "\n",
    "How can this be measured?\n",
    "- Data dimension/manifold dim?\n",
    "- Topology of decision boundaries (for classifiers)\n",
    "- Moments of the data?\n",
    "- how close decision boundaries are to each other\n",
    "\n",
    "On Characterizing the Capacity of Neural Networks using Algebraic Topology\n",
    "\n",
    "Is how the data arrives (ie online, delayed, ...) a problem within data complexity or within the optimisation algol?"
   ]
  },
  {
   "cell_type": "markdown",
   "metadata": {},
   "source": [
    "\n",
    "#### VC dimension\n",
    "\n",
    "What are they up to with the VC dimension? \n",
    "Goal is to be able to match representational capacity with complexity in the data. So, the VC dimension allows us to ask whether the function class we are learning from is able to shattern the data we have been given.\n",
    "\n",
    "If we can measure both then we might give accurate predictions of how learning will proceed.\n",
    "\n",
    "But, it is quite broken. Just being able to shattern something doesnt mean that it is possible to learn that shatterning. It doesnt take into account any learning dynamics.\n",
    "\n",
    "So a lower VC dimension means less possibly functions are representable. Thus(?) making it harder to overfit.\n",
    "\n",
    "A measure of flexibility (but also complexity).\n",
    "Can the fn shatter all assignments of labels. Is it flexible enough to move decision boundaries around as required.\n",
    "Relatedly, is it complex enough to contort the decision boundary as required."
   ]
  },
  {
   "cell_type": "code",
   "execution_count": 1,
   "metadata": {},
   "outputs": [],
   "source": [
    "import tensorflow as tf\n",
    "\n",
    "# want a set of different data. measure their complexity\n",
    "# use UCI datasets and tensorflow plug-in?\n",
    "# https://www.kaggle.com/uciml/datasets\n",
    "# https://github.com/JackDunnNZ/uci-data"
   ]
  },
  {
   "cell_type": "code",
   "execution_count": 1,
   "metadata": {},
   "outputs": [],
   "source": [
    "import os"
   ]
  },
  {
   "cell_type": "code",
   "execution_count": 2,
   "metadata": {},
   "outputs": [
    {
     "data": {
      "text/plain": [
       "['istanbul-stock-exchange',\n",
       " 'pima-indians-diabetes-database',\n",
       " 'aps-failure-at-scania-trucks-data-set',\n",
       " 'red-wine-quality-cortez-et-al-2009',\n",
       " 'forest-cover-type-dataset',\n",
       " 'restaurant-data-with-consumer-ratings']"
      ]
     },
     "execution_count": 2,
     "metadata": {},
     "output_type": "execute_result"
    }
   ],
   "source": [
    "os.listdir('/home/act65/.kaggle/datasets/uciml/')"
   ]
  }
 ],
 "metadata": {
  "kernelspec": {
   "display_name": "Python 3",
   "language": "python",
   "name": "python3"
  },
  "language_info": {
   "codemirror_mode": {
    "name": "ipython",
    "version": 3
   },
   "file_extension": ".py",
   "mimetype": "text/x-python",
   "name": "python",
   "nbconvert_exporter": "python",
   "pygments_lexer": "ipython3",
   "version": "3.6.4"
  }
 },
 "nbformat": 4,
 "nbformat_minor": 2
}
