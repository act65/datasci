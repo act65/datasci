{
 "cells": [
  {
   "cell_type": "markdown",
   "metadata": {},
   "source": [
    "# Probably approximately correct\n",
    "\n",
    "what is it missing?\n",
    "\n",
    "`Probably`: given that you have sampled the data, does it contain enough info about the function you want to learn\n",
    "\n",
    "`Approximately`: does your learned fuction achieve epsilon-error?\n",
    "\n",
    "\n",
    "Efficiently, probably, approximately, correct.\n",
    "\n",
    "In practice, we dont care so much about the `probably` part? We can just restart from another init (although, if we have to do hundreds we probably do care...), and hope we sample the data 'better'. This is a result of many real world applications using offline training?\n",
    "\n"
   ]
  },
  {
   "cell_type": "markdown",
   "metadata": {},
   "source": [
    "\n",
    "> _For each $n \\ge 1$ let $C_n$ be a set of target concepts over the instance space $\\{0,1\\}^n$, and let $C = \\{C_n\\}_{n \\ge 1}$. Let $H_n$, for $n \\ge 1$, and $H$ be defined similarly. We can define PCA learnability as follows: The concept class $C$ is PCA learnable by the hypothesis space $H$ if there exists a polynomical time learning algorithm $A$ and a polynomial $p(\\cdot,\\cdot,\\cdot)$ such that for all $n \\ge 1$, all target concepts $c \\in C_n$, all probability distributions $D$ on the instance space $\\{0, 1\\}^n$, and all $\\epsilon$ and $\\delta$, where $0 < \\epsilon, \\delta < 1$, if the algorithm $A$ is given at least $p(n, 1/\\epsilon, 1/\\delta)$ indepedent random examples of $c$ drawn according to $D$, then with porbabilty at least $1-\\delta$, $A$ returns a hypothesis $h \\in H_n$ with $error(h) \\le \\epsilon$. The smallest such polynomial $p$ is called the sampled complexity of the learning algorithm $A$._\n",
    "\n",
    "\n",
    "* There is no bound on how much memory, compute is used. __Problem is that these depend of the learning algol used...__\n",
    "* Is it possible to search for A that satisfy this definition? What is the class of all A that can make a problem learnable? What is the size of the class of A that dont learn it (pretty big..)? I guess you could always give A a bunch of prior information...? But what info? How would it actually help? Design a case!! Is PAC PAC learnable?\n",
    "* It feels weird that there are no assumptions about; smoothness, locality, ... ? What do these buy you? Make a non-PAC learnable now learnable?\n",
    "* The sample complexity is based on all possible target concepts and distributions. So ... worst case ...\n",
    "* It is still possible to do an exponential amount of compute with a polynomial number of samples...\n",
    "* Can we reword this into something more intuitive?\n",
    "\n",
    "#### Getting closer to practice\n",
    "\n",
    "* what if you have a noisy/dishonest oracle?\n",
    "* what about if you hypothesis class doesnt contain the target concept?\n",
    "* what if the algol doesnt necessarily find the global minima, a 'constitent' algol, but rather some 'good enough' local minima? Aka what about algols with noise!?\n",
    "* average case?\n",
    "\n",
    "> Why is $n$ in there?\n",
    "\n"
   ]
  },
  {
   "cell_type": "markdown",
   "metadata": {},
   "source": [
    "\n",
    "\n",
    "Questions\n",
    "\n",
    "* __ How can it be improved to average case?__ Do we even care about average case...? We care about our case, and other similar ones... What occurs in practice...?\n"
   ]
  },
  {
   "cell_type": "code",
   "execution_count": 1,
   "metadata": {},
   "outputs": [],
   "source": [
    "import numpy as np\n",
    "import numpy.random as rnd\n",
    "\n",
    "import matplotlib.pyplot as plt"
   ]
  },
  {
   "cell_type": "code",
   "execution_count": 82,
   "metadata": {},
   "outputs": [],
   "source": [
    "# want toy example(s)!? one that is PAC and one that isnt!?\n",
    "# could use something from cryptography? or just reverse engineering DFAs?\n",
    "n = 10000  # size of space we are searching\n",
    "C = np.linspace(0,1,n)\n",
    "H = set(C)  # hypothesis space is the same as target concept space\n",
    "# treat it as a set for now. will take advantage of connectedness later\n",
    "\n",
    "# when you frame this as a search it makes little sense to use real numbers...\n",
    "# but real numbers have local structure which you can use to help find better\n",
    "# areas? (but so do discrete variables...)\n",
    "# but searching over larger spaces can mean there are more 'good' hypotheses to find\n",
    "\n",
    "def fn(x, f):\n",
    "    return  (x < f).astype(np.float32)\n",
    "\n",
    "def loss(x, h, c):\n",
    "    return np.mean(fn(x, h) == fn(x, c))\n",
    "\n",
    "class Learning_Algol():\n",
    "    def __init__(self, hypothesis_class, loss_fn):\n",
    "        self.h_class = hypothesis_class\n",
    "        self.loss_fn = loss_fn\n",
    "        \n",
    "    def train():\n",
    "        pass"
   ]
  },
  {
   "cell_type": "code",
   "execution_count": 83,
   "metadata": {},
   "outputs": [],
   "source": [
    "class Random(Learning_Algol):\n",
    "    def train(self, x, steps=1000):  \n",
    "        # the number of steps taken has a big influence...\n",
    "        # for now, just take enough that \n",
    "        h_best = rnd.random()\n",
    "        l_best = 0.0\n",
    "        for _ in range(steps):\n",
    "            h_new = rnd.random()\n",
    "            l = self.loss_fn(x, h_new)\n",
    "            if l > l_best:\n",
    "                h_best = h_new\n",
    "                l_best = l\n",
    "        self.h_best = h_best\n",
    "        return l_best\n",
    "    \n",
    "    def test(self, x):\n",
    "        return self.loss_fn(x, self.h_best)\n",
    "    \n",
    "    def train_and_test(self, train_x, test_x):\n",
    "        _ = self.train(train_x)\n",
    "        return self.test(test_x)"
   ]
  },
  {
   "cell_type": "code",
   "execution_count": 85,
   "metadata": {},
   "outputs": [
    {
     "data": {
      "text/plain": [
       "0.999"
      ]
     },
     "execution_count": 85,
     "metadata": {},
     "output_type": "execute_result"
    }
   ],
   "source": [
    "x = np.random.random((1000,))\n",
    "c = rnd.choice(C)\n",
    "loss_fn = lambda x, h: loss(x, h, c=c)\n",
    "A = Random(H, loss_fn)\n",
    "A.train(x)"
   ]
  },
  {
   "cell_type": "code",
   "execution_count": 86,
   "metadata": {},
   "outputs": [
    {
     "data": {
      "text/plain": [
       "<matplotlib.collections.PathCollection at 0x7fdd30534748>"
      ]
     },
     "execution_count": 86,
     "metadata": {},
     "output_type": "execute_result"
    },
    {
     "data": {
      "image/png": "[encoded data removed]",
      "text/plain": [
       "<Figure size 432x288 with 1 Axes>"
      ]
     },
     "metadata": {},
     "output_type": "display_data"
    }
   ],
   "source": [
    "plt.scatter(x, fn(x, c), alpha=0.5, s=5)\n",
    "# so we are just learning a step fn"
   ]
  },
  {
   "cell_type": "code",
   "execution_count": 87,
   "metadata": {},
   "outputs": [
    {
     "data": {
      "text/plain": [
       "<matplotlib.collections.PathCollection at 0x7fdd30447630>"
      ]
     },
     "execution_count": 87,
     "metadata": {},
     "output_type": "execute_result"
    },
    {
     "data": {
      "image/png": "[encoded data removed]",
      "text/plain": [
       "<Figure size 432x288 with 1 Axes>"
      ]
     },
     "metadata": {},
     "output_type": "display_data"
    }
   ],
   "source": [
    "losses = [Random(H, loss_fn).train_and_test(x[:i+1], x)\n",
    "          for i in range(len(x))]\n",
    "plt.scatter(range(len(losses)), losses, alpha=0.5, s=5)"
   ]
  },
  {
   "cell_type": "markdown",
   "metadata": {},
   "source": [
    "\n",
    "Resources\n",
    "\n",
    "* https://jeremykun.com/2014/01/02/probably-approximately-correct-a-formal-theory-of-learning/\n",
    "* https://jeremykun.com/2014/04/21/an-un-pac-learnable-problem/\n",
    "\n",
    "Other questions\n",
    "\n",
    "* What about `transferable` (aka generalisable?). A concept in X is transferable to Y if ...?\n",
    "* How can I use an automated proof assistant to help me here?\n",
    "* Lower bounds?"
   ]
  }
 ],
 "metadata": {
  "kernelspec": {
   "display_name": "Python 3",
   "language": "python",
   "name": "python3"
  },
  "language_info": {
   "codemirror_mode": {
    "name": "ipython",
    "version": 3
   },
   "file_extension": ".py",
   "mimetype": "text/x-python",
   "name": "python",
   "nbconvert_exporter": "python",
   "pygments_lexer": "ipython3",
   "version": "3.6.4"
  }
 },
 "nbformat": 4,
 "nbformat_minor": 2
}
