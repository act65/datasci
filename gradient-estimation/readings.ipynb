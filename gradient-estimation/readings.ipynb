{
 "cells": [
  {
   "cell_type": "markdown",
   "metadata": {},
   "source": [
    "## Rebar.\n",
    "\n",
    "https://arxiv.org/abs/1703.07370\n",
    "\n",
    "Biased and variant estimates. Why does it matter?\n",
    "\n",
    "\n",
    "Control variates https://en.wikipedia.org/wiki/Control_variates\n",
    "\n",
    "\n",
    "$$\n",
    "\\begin{align*}\n",
    "\\mathbb E_{p(b)} [f(b, \\theta)]& && \\text{Want to maximise}\\\\\n",
    "\\frac{\\partial f}{\\partial \\theta} \\mathbb E_{p (b)} [f(b, \\theta)]&= \\sum \\big[ \\frac{\\partial p(b)}{\\partial \\theta} f(b, \\theta) +  p(b) \\frac{\\partial f(b, \\theta)}{\\partial \\theta} \\big] && \\text{do GD on 1.}\\\\\n",
    "x &=1   && x \\text{ must be one}\n",
    "\\end{align*}\n",
    "$$"
   ]
  }
 ],
 "metadata": {
  "kernelspec": {
   "display_name": "Python 3",
   "language": "python",
   "name": "python3"
  },
  "language_info": {
   "codemirror_mode": {
    "name": "ipython",
    "version": 3
   },
   "file_extension": ".py",
   "mimetype": "text/x-python",
   "name": "python",
   "nbconvert_exporter": "python",
   "pygments_lexer": "ipython3",
   "version": "3.6.4"
  }
 },
 "nbformat": 4,
 "nbformat_minor": 2
}
