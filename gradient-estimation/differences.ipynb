{
 "cells": [
  {
   "cell_type": "markdown",
   "metadata": {},
   "source": [
    "Is there a more general formuation of differences that unifies; finite, temporal, counterfactual, ...?\n",
    "What are these used for? Why do we care?\n",
    "\n",
    "\n",
    "Quick review;\n",
    "\n",
    "A derivative is defined as the limit of a finite difference.\n",
    "$$\n",
    "f'(x)=\\lim _{h\\to 0}{\\frac {f(x+h)-f(x)}{h}}\n",
    "$$\n",
    "\n",
    "> The difference quotient is a measure of the average rate of change of the function over an interval\n",
    "\n",
    "(that doesnt seem true, it just looks at the two ends, not how the fn changes inbetween? oh, maybe this is right?)\n",
    "\n",
    "A counterfactual\n",
    "\n",
    "$$\n",
    "f(x) - f(x')\n",
    "$$\n",
    "\n",
    "\n",
    "A couple of notes. \n",
    "\n",
    "* Even if the differene is not scaled properly (with h, or the run) the direction will still be correct.\n",
    "* Estimating higher order derivatives with differences (does it get harder?).\n",
    "* What if the function is noisy? A difference no longer gives a reliable estiamte...\n",
    "* Maybe I should look at target difference prop again?\n",
    "\n",
    "## Higher order differences\n",
    "\n",
    "https://en.wikipedia.org/wiki/Recurrence_relation#Relationship_to_difference_equations_narrowly_defined\n",
    "More generally: the kth difference of the sequence an written as $$Δ k ( a n ) {\\displaystyle \\Delta ^{k}(a_{n})} \\Delta ^{k}(a_{n}) $$is defined recursively as\n",
    "\n",
    "$$\\Delta^k (a_n) = \\Delta^{k−1}(a_{n+1}) − \\Delta^{k−1}(a_n) = \\sum^k_{t=0}  {k \\choose t} (-1)^t a_{n+k-t}$$\n",
    "\n",
    "What about for multidimensional variables!?"
   ]
  },
  {
   "cell_type": "code",
   "execution_count": null,
   "metadata": {},
   "outputs": [],
   "source": []
  }
 ],
 "metadata": {
  "kernelspec": {
   "display_name": "Python 3",
   "language": "python",
   "name": "python3"
  },
  "language_info": {
   "codemirror_mode": {
    "name": "ipython",
    "version": 3
   },
   "file_extension": ".py",
   "mimetype": "text/x-python",
   "name": "python",
   "nbconvert_exporter": "python",
   "pygments_lexer": "ipython3",
   "version": "3.6.4"
  }
 },
 "nbformat": 4,
 "nbformat_minor": 2
}
